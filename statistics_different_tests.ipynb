{
 "cells": [
  {
   "cell_type": "markdown",
   "id": "4a950b97",
   "metadata": {},
   "source": [
    "# Shapiro Wilk Test"
   ]
  },
  {
   "cell_type": "code",
   "execution_count": 1,
   "id": "6241dc11",
   "metadata": {},
   "outputs": [],
   "source": [
    "# why \n",
    "# 1 for cheking the noramality"
   ]
  },
  {
   "cell_type": "markdown",
   "id": "c61a7431",
   "metadata": {},
   "source": [
    "## Asumptions\n",
    "1 - observations in each sample are independent and identically distributed\n",
    "\n",
    "2 - interpretation\n",
    "\n",
    "- H0: the sample has a GaussianNormal distribution\n",
    "- H1: the sample does not have this"
   ]
  },
  {
   "cell_type": "code",
   "execution_count": 2,
   "id": "c27e0a32",
   "metadata": {},
   "outputs": [
    {
     "name": "stdout",
     "output_type": "stream",
     "text": [
      "stat=0.903, p=0.269\n",
      "Probality Gaussian\n"
     ]
    }
   ],
   "source": [
    "# example of this test\n",
    "import numpy as np\n",
    "import pandas as pd\n",
    "import matplotlib.pyplot as plt\n",
    "from scipy.stats import shapiro\n",
    "lun = [0.873, 0.121, -0.945, -0.055, -1.436, 0.360, -1.478, -1.637, -1.869]\n",
    "stat, tayyab = shapiro(lun)\n",
    "print(\"stat=%.3f, p=%.3f\" % (stat,tayyab))\n",
    "if tayyab > 0.05:\n",
    "    print(\"Probality Gaussian\")\n",
    "else:\n",
    "    print(\"probaly not Gaussian\")"
   ]
  },
  {
   "cell_type": "code",
   "execution_count": 3,
   "id": "099a9818",
   "metadata": {},
   "outputs": [
    {
     "data": {
      "text/plain": [
       "array([[<AxesSubplot:title={'center':'survived'}>,\n",
       "        <AxesSubplot:title={'center':'pclass'}>],\n",
       "       [<AxesSubplot:title={'center':'age'}>,\n",
       "        <AxesSubplot:title={'center':'sibsp'}>],\n",
       "       [<AxesSubplot:title={'center':'parch'}>,\n",
       "        <AxesSubplot:title={'center':'fare'}>]], dtype=object)"
      ]
     },
     "execution_count": 3,
     "metadata": {},
     "output_type": "execute_result"
    },
    {
     "data": {
      "image/png": "[encoded data removed]",
      "text/plain": [
       "<Figure size 432x288 with 6 Axes>"
      ]
     },
     "metadata": {
      "needs_background": "light"
     },
     "output_type": "display_data"
    }
   ],
   "source": [
    "import pandas as pd\n",
    "import numpy as np\n",
    "import seaborn as sns\n",
    "import matplotlib.pyplot as plt\n",
    "hi = sns.load_dataset(\"titanic\")\n",
    "hi.hist()\n"
   ]
  },
  {
   "cell_type": "code",
   "execution_count": 4,
   "id": "48d5f24b",
   "metadata": {
    "scrolled": true
   },
   "outputs": [
    {
     "name": "stderr",
     "output_type": "stream",
     "text": [
      "C:\\Users\\Tayyab\\anaconda3\\lib\\site-packages\\seaborn\\_decorators.py:36: FutureWarning: Pass the following variable as a keyword arg: x. From version 0.12, the only valid positional argument will be `data`, and passing other arguments without an explicit keyword will result in an error or misinterpretation.\n",
      "  warnings.warn(\n"
     ]
    },
    {
     "data": {
      "text/plain": [
       "<AxesSubplot:xlabel='age'>"
      ]
     },
     "execution_count": 4,
     "metadata": {},
     "output_type": "execute_result"
    },
    {
     "data": {
      "image/png": "[encoded data removed]",
      "text/plain": [
       "<Figure size 432x288 with 1 Axes>"
      ]
     },
     "metadata": {
      "needs_background": "light"
     },
     "output_type": "display_data"
    }
   ],
   "source": [
    "sns.boxplot(hi[\"age\"])"
   ]
  },
  {
   "cell_type": "code",
   "execution_count": 5,
   "id": "5839c98c",
   "metadata": {},
   "outputs": [
    {
     "name": "stdout",
     "output_type": "stream",
     "text": [
      "stat=nan, p=1.000\n",
      "Probality Gaussian\n"
     ]
    }
   ],
   "source": [
    "# example of this test\n",
    "import numpy as np\n",
    "import pandas as pd\n",
    "import matplotlib.pyplot as plt\n",
    "from scipy.stats import shapiro\n",
    "stat, tayyab = shapiro(hi[\"age\"])\n",
    "print(\"stat=%.3f, p=%.3f\" % (stat,tayyab))\n",
    "if tayyab > 0.05:\n",
    "    print(\"Probality Gaussian\")\n",
    "else:\n",
    "    print(\"probaly not Gaussian\")"
   ]
  },
  {
   "cell_type": "code",
   "execution_count": 6,
   "id": "58498b85",
   "metadata": {},
   "outputs": [
    {
     "name": "stderr",
     "output_type": "stream",
     "text": [
      "C:\\Users\\Tayyab\\anaconda3\\lib\\site-packages\\seaborn\\_decorators.py:36: FutureWarning: Pass the following variable as a keyword arg: x. From version 0.12, the only valid positional argument will be `data`, and passing other arguments without an explicit keyword will result in an error or misinterpretation.\n",
      "  warnings.warn(\n"
     ]
    },
    {
     "data": {
      "text/plain": [
       "<AxesSubplot:xlabel='survived'>"
      ]
     },
     "execution_count": 6,
     "metadata": {},
     "output_type": "execute_result"
    },
    {
     "data": {
      "image/png": "[encoded data removed]",
      "text/plain": [
       "<Figure size 432x288 with 1 Axes>"
      ]
     },
     "metadata": {
      "needs_background": "light"
     },
     "output_type": "display_data"
    }
   ],
   "source": [
    "sns.boxplot(hi[\"survived\"])"
   ]
  },
  {
   "cell_type": "code",
   "execution_count": 7,
   "id": "0fb722f4",
   "metadata": {},
   "outputs": [
    {
     "name": "stderr",
     "output_type": "stream",
     "text": [
      "C:\\Users\\Tayyab\\anaconda3\\lib\\site-packages\\seaborn\\_decorators.py:36: FutureWarning: Pass the following variable as a keyword arg: x. From version 0.12, the only valid positional argument will be `data`, and passing other arguments without an explicit keyword will result in an error or misinterpretation.\n",
      "  warnings.warn(\n"
     ]
    },
    {
     "data": {
      "text/plain": [
       "<AxesSubplot:xlabel='fare'>"
      ]
     },
     "execution_count": 7,
     "metadata": {},
     "output_type": "execute_result"
    },
    {
     "data": {
      "image/png": "[encoded data removed]",
      "text/plain": [
       "<Figure size 432x288 with 1 Axes>"
      ]
     },
     "metadata": {
      "needs_background": "light"
     },
     "output_type": "display_data"
    }
   ],
   "source": [
    "sns.boxplot(hi[\"fare\"])"
   ]
  },
  {
   "cell_type": "code",
   "execution_count": 8,
   "id": "f0c1a187",
   "metadata": {
    "scrolled": true
   },
   "outputs": [
    {
     "data": {
      "text/html": [
       "<div>\n",
       "<style scoped>\n",
       "    .dataframe tbody tr th:only-of-type {\n",
       "        vertical-align: middle;\n",
       "    }\n",
       "\n",
       "    .dataframe tbody tr th {\n",
       "        vertical-align: top;\n",
       "    }\n",
       "\n",
       "    .dataframe thead th {\n",
       "        text-align: right;\n",
       "    }\n",
       "</style>\n",
       "<table border=\"1\" class=\"dataframe\">\n",
       "  <thead>\n",
       "    <tr style=\"text-align: right;\">\n",
       "      <th></th>\n",
       "      <th>survived</th>\n",
       "      <th>pclass</th>\n",
       "      <th>sex</th>\n",
       "      <th>age</th>\n",
       "      <th>sibsp</th>\n",
       "      <th>parch</th>\n",
       "      <th>fare</th>\n",
       "      <th>embarked</th>\n",
       "      <th>class</th>\n",
       "      <th>who</th>\n",
       "      <th>adult_male</th>\n",
       "      <th>deck</th>\n",
       "      <th>embark_town</th>\n",
       "      <th>alive</th>\n",
       "      <th>alone</th>\n",
       "    </tr>\n",
       "  </thead>\n",
       "  <tbody>\n",
       "    <tr>\n",
       "      <th>0</th>\n",
       "      <td>0</td>\n",
       "      <td>3</td>\n",
       "      <td>male</td>\n",
       "      <td>22.0</td>\n",
       "      <td>1</td>\n",
       "      <td>0</td>\n",
       "      <td>7.2500</td>\n",
       "      <td>S</td>\n",
       "      <td>Third</td>\n",
       "      <td>man</td>\n",
       "      <td>True</td>\n",
       "      <td>NaN</td>\n",
       "      <td>Southampton</td>\n",
       "      <td>no</td>\n",
       "      <td>False</td>\n",
       "    </tr>\n",
       "    <tr>\n",
       "      <th>1</th>\n",
       "      <td>1</td>\n",
       "      <td>1</td>\n",
       "      <td>female</td>\n",
       "      <td>38.0</td>\n",
       "      <td>1</td>\n",
       "      <td>0</td>\n",
       "      <td>71.2833</td>\n",
       "      <td>C</td>\n",
       "      <td>First</td>\n",
       "      <td>woman</td>\n",
       "      <td>False</td>\n",
       "      <td>C</td>\n",
       "      <td>Cherbourg</td>\n",
       "      <td>yes</td>\n",
       "      <td>False</td>\n",
       "    </tr>\n",
       "    <tr>\n",
       "      <th>2</th>\n",
       "      <td>1</td>\n",
       "      <td>3</td>\n",
       "      <td>female</td>\n",
       "      <td>26.0</td>\n",
       "      <td>0</td>\n",
       "      <td>0</td>\n",
       "      <td>7.9250</td>\n",
       "      <td>S</td>\n",
       "      <td>Third</td>\n",
       "      <td>woman</td>\n",
       "      <td>False</td>\n",
       "      <td>NaN</td>\n",
       "      <td>Southampton</td>\n",
       "      <td>yes</td>\n",
       "      <td>True</td>\n",
       "    </tr>\n",
       "    <tr>\n",
       "      <th>3</th>\n",
       "      <td>1</td>\n",
       "      <td>1</td>\n",
       "      <td>female</td>\n",
       "      <td>35.0</td>\n",
       "      <td>1</td>\n",
       "      <td>0</td>\n",
       "      <td>53.1000</td>\n",
       "      <td>S</td>\n",
       "      <td>First</td>\n",
       "      <td>woman</td>\n",
       "      <td>False</td>\n",
       "      <td>C</td>\n",
       "      <td>Southampton</td>\n",
       "      <td>yes</td>\n",
       "      <td>False</td>\n",
       "    </tr>\n",
       "    <tr>\n",
       "      <th>4</th>\n",
       "      <td>0</td>\n",
       "      <td>3</td>\n",
       "      <td>male</td>\n",
       "      <td>35.0</td>\n",
       "      <td>0</td>\n",
       "      <td>0</td>\n",
       "      <td>8.0500</td>\n",
       "      <td>S</td>\n",
       "      <td>Third</td>\n",
       "      <td>man</td>\n",
       "      <td>True</td>\n",
       "      <td>NaN</td>\n",
       "      <td>Southampton</td>\n",
       "      <td>no</td>\n",
       "      <td>True</td>\n",
       "    </tr>\n",
       "    <tr>\n",
       "      <th>...</th>\n",
       "      <td>...</td>\n",
       "      <td>...</td>\n",
       "      <td>...</td>\n",
       "      <td>...</td>\n",
       "      <td>...</td>\n",
       "      <td>...</td>\n",
       "      <td>...</td>\n",
       "      <td>...</td>\n",
       "      <td>...</td>\n",
       "      <td>...</td>\n",
       "      <td>...</td>\n",
       "      <td>...</td>\n",
       "      <td>...</td>\n",
       "      <td>...</td>\n",
       "      <td>...</td>\n",
       "    </tr>\n",
       "    <tr>\n",
       "      <th>886</th>\n",
       "      <td>0</td>\n",
       "      <td>2</td>\n",
       "      <td>male</td>\n",
       "      <td>27.0</td>\n",
       "      <td>0</td>\n",
       "      <td>0</td>\n",
       "      <td>13.0000</td>\n",
       "      <td>S</td>\n",
       "      <td>Second</td>\n",
       "      <td>man</td>\n",
       "      <td>True</td>\n",
       "      <td>NaN</td>\n",
       "      <td>Southampton</td>\n",
       "      <td>no</td>\n",
       "      <td>True</td>\n",
       "    </tr>\n",
       "    <tr>\n",
       "      <th>887</th>\n",
       "      <td>1</td>\n",
       "      <td>1</td>\n",
       "      <td>female</td>\n",
       "      <td>19.0</td>\n",
       "      <td>0</td>\n",
       "      <td>0</td>\n",
       "      <td>30.0000</td>\n",
       "      <td>S</td>\n",
       "      <td>First</td>\n",
       "      <td>woman</td>\n",
       "      <td>False</td>\n",
       "      <td>B</td>\n",
       "      <td>Southampton</td>\n",
       "      <td>yes</td>\n",
       "      <td>True</td>\n",
       "    </tr>\n",
       "    <tr>\n",
       "      <th>888</th>\n",
       "      <td>0</td>\n",
       "      <td>3</td>\n",
       "      <td>female</td>\n",
       "      <td>NaN</td>\n",
       "      <td>1</td>\n",
       "      <td>2</td>\n",
       "      <td>23.4500</td>\n",
       "      <td>S</td>\n",
       "      <td>Third</td>\n",
       "      <td>woman</td>\n",
       "      <td>False</td>\n",
       "      <td>NaN</td>\n",
       "      <td>Southampton</td>\n",
       "      <td>no</td>\n",
       "      <td>False</td>\n",
       "    </tr>\n",
       "    <tr>\n",
       "      <th>889</th>\n",
       "      <td>1</td>\n",
       "      <td>1</td>\n",
       "      <td>male</td>\n",
       "      <td>26.0</td>\n",
       "      <td>0</td>\n",
       "      <td>0</td>\n",
       "      <td>30.0000</td>\n",
       "      <td>C</td>\n",
       "      <td>First</td>\n",
       "      <td>man</td>\n",
       "      <td>True</td>\n",
       "      <td>C</td>\n",
       "      <td>Cherbourg</td>\n",
       "      <td>yes</td>\n",
       "      <td>True</td>\n",
       "    </tr>\n",
       "    <tr>\n",
       "      <th>890</th>\n",
       "      <td>0</td>\n",
       "      <td>3</td>\n",
       "      <td>male</td>\n",
       "      <td>32.0</td>\n",
       "      <td>0</td>\n",
       "      <td>0</td>\n",
       "      <td>7.7500</td>\n",
       "      <td>Q</td>\n",
       "      <td>Third</td>\n",
       "      <td>man</td>\n",
       "      <td>True</td>\n",
       "      <td>NaN</td>\n",
       "      <td>Queenstown</td>\n",
       "      <td>no</td>\n",
       "      <td>True</td>\n",
       "    </tr>\n",
       "  </tbody>\n",
       "</table>\n",
       "<p>891 rows × 15 columns</p>\n",
       "</div>"
      ],
      "text/plain": [
       "     survived  pclass     sex   age  sibsp  parch     fare embarked   class  \\\n",
       "0           0       3    male  22.0      1      0   7.2500        S   Third   \n",
       "1           1       1  female  38.0      1      0  71.2833        C   First   \n",
       "2           1       3  female  26.0      0      0   7.9250        S   Third   \n",
       "3           1       1  female  35.0      1      0  53.1000        S   First   \n",
       "4           0       3    male  35.0      0      0   8.0500        S   Third   \n",
       "..        ...     ...     ...   ...    ...    ...      ...      ...     ...   \n",
       "886         0       2    male  27.0      0      0  13.0000        S  Second   \n",
       "887         1       1  female  19.0      0      0  30.0000        S   First   \n",
       "888         0       3  female   NaN      1      2  23.4500        S   Third   \n",
       "889         1       1    male  26.0      0      0  30.0000        C   First   \n",
       "890         0       3    male  32.0      0      0   7.7500        Q   Third   \n",
       "\n",
       "       who  adult_male deck  embark_town alive  alone  \n",
       "0      man        True  NaN  Southampton    no  False  \n",
       "1    woman       False    C    Cherbourg   yes  False  \n",
       "2    woman       False  NaN  Southampton   yes   True  \n",
       "3    woman       False    C  Southampton   yes  False  \n",
       "4      man        True  NaN  Southampton    no   True  \n",
       "..     ...         ...  ...          ...   ...    ...  \n",
       "886    man        True  NaN  Southampton    no   True  \n",
       "887  woman       False    B  Southampton   yes   True  \n",
       "888  woman       False  NaN  Southampton    no  False  \n",
       "889    man        True    C    Cherbourg   yes   True  \n",
       "890    man        True  NaN   Queenstown    no   True  \n",
       "\n",
       "[891 rows x 15 columns]"
      ]
     },
     "execution_count": 8,
     "metadata": {},
     "output_type": "execute_result"
    }
   ],
   "source": [
    "hi"
   ]
  },
  {
   "cell_type": "markdown",
   "id": "d71fdd3c",
   "metadata": {},
   "source": [
    "# Correlation test"
   ]
  },
  {
   "cell_type": "markdown",
   "id": "4ae0e736",
   "metadata": {},
   "source": [
    "## 1 - Pearsons,s correlation coefficient\n",
    "\n",
    "- test whether two samples have the lineasr linear realtionship\n",
    "\n",
    "\n",
    "Assumption\n",
    "\n",
    "1. observations in each sample are indeoendent and identically distributed\n",
    "2. observations in each sample are normally distributed\n",
    "3. observations in each sample have the same variance\n",
    "4. interpretation\n",
    "\n",
    "- H0: two samples are independent\n",
    "- H1: there is te dependency bw the samples\n"
   ]
  },
  {
   "cell_type": "code",
   "execution_count": 25,
   "id": "a1f99655",
   "metadata": {},
   "outputs": [
    {
     "name": "stdout",
     "output_type": "stream",
     "text": [
      "stat=0.855, alu=0.002\n",
      "probality is dependent\n"
     ]
    }
   ],
   "source": [
    "# applying the statistics correlation test  spearmanr test\n",
    "from scipy.stats import spearmanr\n",
    "data1 = [ 0.873, 2.817, 0.121, -0.495, -0.055, -1.436, 0.369, -1.478, -1.637,  -1.869]\n",
    "data2 = [ 0.353, 3.517, 0.125, -7.545, -0.555, -1.536, 3.350, -1.578, -3.537,  -1.579]\n",
    "stat, alu = spearmanr(data1,data2)\n",
    "print(\"stat=%.3f, alu=%.3f\" % (stat, alu))\n",
    "if alu > 0.05:\n",
    "    print(\"probality independent\")\n",
    "else:\n",
    "    print(\"probality is dependent\")\n"
   ]
  },
  {
   "cell_type": "code",
   "execution_count": 27,
   "id": "6c1cc080",
   "metadata": {},
   "outputs": [
    {
     "name": "stdout",
     "output_type": "stream",
     "text": [
      "stat=0.624, alu=0.054\n",
      "probality independent\n"
     ]
    }
   ],
   "source": [
    "# applying the statistics correlation test  pearsonr test\n",
    "from scipy.stats import pearsonr\n",
    "data1 = [ 0.873, 2.817, 0.121, -0.495, -0.055, -1.436, 0.369, -1.478, -1.637,  -1.869]\n",
    "data2 = [ 0.353, 3.517, 0.125, -7.545, -0.555, -1.536, 3.350, -1.578, -3.537,  -1.579]\n",
    "stat, alu = pearsonr(data1,data2)\n",
    "print(\"stat=%.3f, alu=%.3f\" % (stat, alu))\n",
    "if alu > 0.05:\n",
    "    print(\"probality independent\")\n",
    "else:\n",
    "    print(\"probality is dependent\")"
   ]
  },
  {
   "cell_type": "markdown",
   "id": "874e400b",
   "metadata": {},
   "source": [
    "# CHI_Squared TEST\n",
    "\n",
    "## tells whether two categorical variables are related or independent \n",
    "\n",
    "Assumptions\n",
    "\n",
    "1. Observation used in the caluculation of the contigency table are indepent. 25 variables are used\n",
    "- H0: the samples are independent \n",
    "- H1: nthere is the depency bw the samples\n"
   ]
  },
  {
   "cell_type": "code",
   "execution_count": 32,
   "id": "3b91a83a",
   "metadata": {},
   "outputs": [
    {
     "name": "stdout",
     "output_type": "stream",
     "text": [
      "stat=2.572, chutiyapa=0.276\n",
      "Probality independent\n"
     ]
    }
   ],
   "source": [
    "# applying chi squared test \n",
    "from scipy.stats import chi2_contingency\n",
    "table = [[12,  20 , 30],[3, 6, 18]]\n",
    "stat, chutiyapa, dof, expected = chi2_contingency(table)\n",
    "print('stat=%.3f, chutiyapa=%.3f' % (stat, chutiyapa))\n",
    "if chutiyapa > 0.05:\n",
    "    print(\"Probality independent\")\n",
    "else:\n",
    "    print(\"Probality dependent\")"
   ]
  },
  {
   "cell_type": "markdown",
   "id": "e52ee7ae",
   "metadata": {},
   "source": [
    "# PARAMETRIC STATICAL HYPOTHESIS TEST\n",
    "\n",
    "# Students's Test\n",
    "\n",
    "TESTS WHETHER THE MEAN OF TH TWO INDEPENDENT SAMPLES ARE SIGNIFICANTLY DIFFERENT \n",
    "\n",
    "ASSUMPTIONS\n",
    "\n",
    "1. OBSERVATIONS IN EACH SAMPLE ARE INDEPENT AND IDENTICALLY DISTRIBUTED\n",
    "2. OBSERVATIONS IN EACH SAMPLE ARE NORMALLY DISTRIBUTES\n",
    "3. OBSERVATIONS IN EACH SAMPLE HAVE THE SAME VARIANCE\n",
    "4. INTERPRETATION\n",
    "\n",
    "- H0: THE MEANS OF THE SAMPLES ARE EQUIL\n",
    "- H1: the means of the samples are unequil\n"
   ]
  },
  {
   "cell_type": "code",
   "execution_count": 37,
   "id": "fc1849fa",
   "metadata": {},
   "outputs": [
    {
     "name": "stdout",
     "output_type": "stream",
     "text": [
      "pribality indeoendent\n"
     ]
    }
   ],
   "source": [
    "# example of Student's t-test\n",
    "from scipy.stats import ttest_ind\n",
    "data1 = [ 0.873, 2.817, 0.121, -0.495, -0.055, -1.436, 0.369, -1.478, -1.637,  -1.869]\n",
    "data2 = [ 0.353, 3.517, 0.125, -7.545, -0.555, -1.536, 3.350, -1.578, -3.537,  -1.579]\n",
    "stat, newchutiyapa = ttest_ind(data1, data2)\n",
    "if newchutiyapa > 0.05:\n",
    "    print(\"pribality indeoendent\") # sam tribution\n",
    "else:\n",
    "    print(\"probality is deopendent\") # different distribution"
   ]
  },
  {
   "cell_type": "markdown",
   "id": "dba08220",
   "metadata": {},
   "source": [
    "# Paired Studentis t-test\n",
    "\n",
    "## test whether the means of two different paires are signioficant"
   ]
  },
  {
   "cell_type": "code",
   "execution_count": 41,
   "id": "2ff7357b",
   "metadata": {},
   "outputs": [
    {
     "name": "stdout",
     "output_type": "stream",
     "text": [
      "pribality indeoendent\n"
     ]
    }
   ],
   "source": [
    "from scipy.stats import ttest_rel\n",
    "data1 = [ 0.873, 2.817, 0.121, -0.495, -0.055, -1.436, 0.369, -1.478, -1.637,  -1.869]\n",
    "data2 = [ 0.353, 3.517, 0.125, -7.545, -0.555, -1.536, 3.350, -1.578, -3.537,  -1.579]\n",
    "stat, newchutiyapa = ttest_rel(data1, data2)\n",
    "if newchutiyapa > 0.05:\n",
    "    print(\"pribality indeoendent\") # sam tribution\n",
    "else:\n",
    "    print(\"probality is deopendent\") # different distribution\n",
    "\n"
   ]
  },
  {
   "cell_type": "markdown",
   "id": "dddce43b",
   "metadata": {},
   "source": [
    "# t-test/anova"
   ]
  },
  {
   "cell_type": "code",
   "execution_count": 44,
   "id": "134c8b89",
   "metadata": {},
   "outputs": [
    {
     "name": "stdout",
     "output_type": "stream",
     "text": [
      "stat=0.151, chutiyapa=0.861\n",
      "same distribution\n"
     ]
    }
   ],
   "source": [
    "# analysis of the variances\n",
    "from scipy.stats import f_oneway\n",
    "data1 = [ 0.873, 2.817, 0.121, -0.495, -0.055, -1.436, 0.369, -1.478, -1.637,  -1.869]\n",
    "data2 = [ 0.353, 3.517, 0.125, -7.545, -0.555, -1.536, 3.350, -1.578, -3.537,  -1.579]\n",
    "data3 = [ 1.353, 3.567, 0.825, -3.545, -0.555, -1.578, 3.350, -1.578, -9.537,  -1.579]\n",
    "stat, hianova = f_oneway(data1, data2, data3)\n",
    "print('stat=%.3f, chutiyapa=%.3f' % (stat, hianova))\n",
    "if hianova  > 0.05:\n",
    "    print(\"same distribution\")\n",
    "else:\n",
    "    print(\"differnet distribution\")"
   ]
  },
  {
   "cell_type": "code",
   "execution_count": null,
   "id": "78228c69",
   "metadata": {},
   "outputs": [],
   "source": []
  }
 ],
 "metadata": {
  "kernelspec": {
   "display_name": "Python 3 (ipykernel)",
   "language": "python",
   "name": "python3"
  },
  "language_info": {
   "codemirror_mode": {
    "name": "ipython",
    "version": 3
   },
   "file_extension": ".py",
   "mimetype": "text/x-python",
   "name": "python",
   "nbconvert_exporter": "python",
   "pygments_lexer": "ipython3",
   "version": "3.9.7"
  }
 },
 "nbformat": 4,
 "nbformat_minor": 5
}
