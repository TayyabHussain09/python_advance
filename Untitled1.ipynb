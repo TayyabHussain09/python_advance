{
 "cells": [
  {
   "cell_type": "code",
   "execution_count": null,
   "id": "691d3aaa",
   "metadata": {},
   "outputs": [],
   "source": [
    "# Create a spark Instance\n",
    "from pyspark.sql import SparkSession\n",
    "spark = SparkSession.builder.appName(\"heart_disease_classification\").getOrCreate()\n",
    "\n",
    "#Reading data from csv and creating a Spark Dataframe\n",
    "df = spark.read.csv(\"datasets_heart.csv\", inferSchema=True, header=True)\n",
    "df.show(2)"
   ]
  },
  {
   "cell_type": "code",
   "execution_count": null,
   "id": "07bb0cdb",
   "metadata": {},
   "outputs": [],
   "source": [
    "pip install pyspark"
   ]
  },
  {
   "cell_type": "code",
   "execution_count": null,
   "id": "cab2ea67",
   "metadata": {},
   "outputs": [],
   "source": [
    "f"
   ]
  }
 ],
 "metadata": {
  "kernelspec": {
   "display_name": "Python 3 (ipykernel)",
   "language": "python",
   "name": "python3"
  },
  "language_info": {
   "codemirror_mode": {
    "name": "ipython",
    "version": 3
   },
   "file_extension": ".py",
   "mimetype": "text/x-python",
   "name": "python",
   "nbconvert_exporter": "python",
   "pygments_lexer": "ipython3",
   "version": "3.9.7"
  }
 },
 "nbformat": 4,
 "nbformat_minor": 5
}
