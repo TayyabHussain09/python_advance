{
 "cells": [
  {
   "cell_type": "markdown",
   "id": "bfa8ecdd",
   "metadata": {},
   "source": [
    "#  i have already knoe numpy basics fromits main web just practicing again"
   ]
  },
  {
   "cell_type": "markdown",
   "id": "d953286f",
   "metadata": {},
   "source": [
    "# creatimg an array using numpy"
   ]
  },
  {
   "cell_type": "code",
   "execution_count": 3,
   "id": "77259eec",
   "metadata": {},
   "outputs": [
    {
     "data": {
      "text/plain": [
       "array(['pakora', 'samosa', 'raita'], dtype='<U6')"
      ]
     },
     "execution_count": 3,
     "metadata": {},
     "output_type": "execute_result"
    }
   ],
   "source": [
    "import numpy as np\n",
    "a = np.array([\"pakora\", \"samosa\", \"raita\"])\n",
    "a"
   ]
  },
  {
   "cell_type": "code",
   "execution_count": 4,
   "id": "1fba41b6",
   "metadata": {},
   "outputs": [
    {
     "data": {
      "text/plain": [
       "array([5, 5, 5])"
      ]
     },
     "execution_count": 4,
     "metadata": {},
     "output_type": "execute_result"
    }
   ],
   "source": [
    "price = np.array([5,5,5,])\n",
    "price"
   ]
  },
  {
   "cell_type": "code",
   "execution_count": 5,
   "id": "80e92972",
   "metadata": {},
   "outputs": [
    {
     "data": {
      "text/plain": [
       "numpy.ndarray"
      ]
     },
     "execution_count": 5,
     "metadata": {},
     "output_type": "execute_result"
    }
   ],
   "source": [
    "type(price)"
   ]
  },
  {
   "cell_type": "code",
   "execution_count": 6,
   "id": "667901ad",
   "metadata": {},
   "outputs": [
    {
     "data": {
      "text/plain": [
       "numpy.ndarray"
      ]
     },
     "execution_count": 6,
     "metadata": {},
     "output_type": "execute_result"
    }
   ],
   "source": [
    "type(a)"
   ]
  },
  {
   "cell_type": "code",
   "execution_count": 7,
   "id": "34554cce",
   "metadata": {},
   "outputs": [
    {
     "data": {
      "text/plain": [
       "3"
      ]
     },
     "execution_count": 7,
     "metadata": {},
     "output_type": "execute_result"
    }
   ],
   "source": [
    "len(a)"
   ]
  },
  {
   "cell_type": "code",
   "execution_count": 9,
   "id": "0d05594e",
   "metadata": {},
   "outputs": [
    {
     "data": {
      "text/plain": [
       "5"
      ]
     },
     "execution_count": 9,
     "metadata": {},
     "output_type": "execute_result"
    }
   ],
   "source": [
    "price[2]"
   ]
  },
  {
   "cell_type": "code",
   "execution_count": 10,
   "id": "2268284d",
   "metadata": {},
   "outputs": [
    {
     "data": {
      "text/plain": [
       "array([5, 5, 5])"
      ]
     },
     "execution_count": 10,
     "metadata": {},
     "output_type": "execute_result"
    }
   ],
   "source": [
    "price[0:]"
   ]
  },
  {
   "cell_type": "code",
   "execution_count": 11,
   "id": "2fd25e82",
   "metadata": {},
   "outputs": [
    {
     "data": {
      "text/plain": [
       "'samosa'"
      ]
     },
     "execution_count": 11,
     "metadata": {},
     "output_type": "execute_result"
    }
   ],
   "source": [
    "a[1]"
   ]
  },
  {
   "cell_type": "code",
   "execution_count": 12,
   "id": "d65b2731",
   "metadata": {},
   "outputs": [
    {
     "data": {
      "text/plain": [
       "5.0"
      ]
     },
     "execution_count": 12,
     "metadata": {},
     "output_type": "execute_result"
    }
   ],
   "source": [
    "price.mean(0)"
   ]
  },
  {
   "cell_type": "code",
   "execution_count": 13,
   "id": "a0624acc",
   "metadata": {},
   "outputs": [
    {
     "data": {
      "text/plain": [
       "array([0., 0., 0., 0., 0., 0., 0., 0., 0., 0., 0., 0.])"
      ]
     },
     "execution_count": 13,
     "metadata": {},
     "output_type": "execute_result"
    }
   ],
   "source": [
    "np.zeros(12)"
   ]
  },
  {
   "cell_type": "code",
   "execution_count": 14,
   "id": "76fcfb75",
   "metadata": {},
   "outputs": [
    {
     "data": {
      "text/plain": [
       "array([1., 1., 1., 1., 1., 1., 1., 1., 1., 1., 1., 1., 1., 1., 1., 1., 1.,\n",
       "       1., 1., 1., 1., 1., 1., 1., 1., 1., 1., 1., 1., 1., 1., 1., 1., 1.,\n",
       "       1., 1., 1., 1., 1., 1., 1., 1., 1., 1., 1., 1., 1.])"
      ]
     },
     "execution_count": 14,
     "metadata": {},
     "output_type": "execute_result"
    }
   ],
   "source": [
    "np.ones(47)"
   ]
  },
  {
   "cell_type": "code",
   "execution_count": 15,
   "id": "de0c6ac0",
   "metadata": {},
   "outputs": [
    {
     "data": {
      "text/plain": [
       "array([9.65336682e-312, 9.65344485e-312, 9.65344524e-312, 9.65344511e-312,\n",
       "       9.65344511e-312, 9.65344511e-312, 9.65344511e-312, 9.65344510e-312,\n",
       "       9.65344510e-312, 9.65344512e-312, 9.65344510e-312, 9.65344510e-312,\n",
       "       9.65344508e-312, 9.65344508e-312, 9.65344506e-312, 9.65344505e-312,\n",
       "       9.65344505e-312, 9.65344505e-312, 9.65344505e-312, 9.65344505e-312,\n",
       "       9.65344532e-312, 9.65344532e-312, 9.65344532e-312, 9.65344532e-312,\n",
       "       9.65344532e-312, 9.65344532e-312, 9.65344532e-312, 9.65344532e-312,\n",
       "       9.65344532e-312, 9.65344532e-312, 9.65344532e-312, 9.65346440e-312,\n",
       "       9.65346243e-312, 9.65346243e-312, 9.65346243e-312, 9.65346243e-312,\n",
       "       9.65345993e-312, 9.65345993e-312, 9.65345992e-312, 9.65345998e-312,\n",
       "       9.65345999e-312, 9.65345998e-312, 9.65345998e-312, 9.65345999e-312,\n",
       "       9.65346246e-312, 9.65346247e-312, 9.65346247e-312, 9.65346247e-312,\n",
       "       9.65346248e-312, 9.65346253e-312, 9.65346253e-312, 9.65346254e-312,\n",
       "       9.65346002e-312, 9.65346002e-312, 9.65346002e-312, 9.65346257e-312,\n",
       "       9.65346257e-312, 9.65346257e-312, 9.65346258e-312, 9.65346258e-312,\n",
       "       9.65346005e-312, 9.65346006e-312, 9.65346006e-312, 9.65346007e-312,\n",
       "       9.65346006e-312, 9.65346006e-312, 9.65346007e-312, 9.65346263e-312,\n",
       "       9.65346263e-312, 9.65346264e-312, 9.65346264e-312, 0.00000000e+000,\n",
       "       0.00000000e+000, 0.00000000e+000, 0.00000000e+000, 0.00000000e+000])"
      ]
     },
     "execution_count": 15,
     "metadata": {},
     "output_type": "execute_result"
    }
   ],
   "source": [
    "np.empty(76)"
   ]
  },
  {
   "cell_type": "code",
   "execution_count": 17,
   "id": "3a357b75",
   "metadata": {},
   "outputs": [
    {
     "data": {
      "text/plain": [
       "array([ 0,  1,  2,  3,  4,  5,  6,  7,  8,  9, 10, 11])"
      ]
     },
     "execution_count": 17,
     "metadata": {},
     "output_type": "execute_result"
    }
   ],
   "source": [
    "np.arange(12) # last word is always exclusive"
   ]
  },
  {
   "cell_type": "code",
   "execution_count": 19,
   "id": "be8ff61a",
   "metadata": {},
   "outputs": [
    {
     "data": {
      "text/plain": [
       "array([ 3,  6,  9, 12, 15, 18, 21, 24, 27, 30, 33, 36, 39, 42, 45, 48, 51,\n",
       "       54])"
      ]
     },
     "execution_count": 19,
     "metadata": {},
     "output_type": "execute_result"
    }
   ],
   "source": [
    "# specifying th range # last number showing the gap  meens faraq se in the language of baba g\n",
    "np.arange(3, 56,3)"
   ]
  },
  {
   "cell_type": "code",
   "execution_count": 20,
   "id": "2f15e23c",
   "metadata": {},
   "outputs": [
    {
     "data": {
      "text/plain": [
       "array([  1.        ,  12.34090909,  23.68181818,  35.02272727,\n",
       "        46.36363636,  57.70454545,  69.04545455,  80.38636364,\n",
       "        91.72727273, 103.06818182, 114.40909091, 125.75      ,\n",
       "       137.09090909, 148.43181818, 159.77272727, 171.11363636,\n",
       "       182.45454545, 193.79545455, 205.13636364, 216.47727273,\n",
       "       227.81818182, 239.15909091, 250.5       , 261.84090909,\n",
       "       273.18181818, 284.52272727, 295.86363636, 307.20454545,\n",
       "       318.54545455, 329.88636364, 341.22727273, 352.56818182,\n",
       "       363.90909091, 375.25      , 386.59090909, 397.93181818,\n",
       "       409.27272727, 420.61363636, 431.95454545, 443.29545455,\n",
       "       454.63636364, 465.97727273, 477.31818182, 488.65909091,\n",
       "       500.        ])"
      ]
     },
     "execution_count": 20,
     "metadata": {},
     "output_type": "execute_result"
    }
   ],
   "source": [
    "# practicing again the line space\n",
    "np.linspace(1, 500, num=45)"
   ]
  },
  {
   "cell_type": "code",
   "execution_count": null,
   "id": "4031a7ba",
   "metadata": {},
   "outputs": [],
   "source": [
    "# if you want to sort some array name fg haha then type haha.sort()"
   ]
  },
  {
   "cell_type": "code",
   "execution_count": 29,
   "id": "5cbf44f2",
   "metadata": {},
   "outputs": [],
   "source": [
    "a = np.array([1,2,3,4,5,6,7,8])\n",
    "b = np.array([1,2,3,4,5,6,7,8])\n",
    "c = np.concatenate((a,b))\n"
   ]
  },
  {
   "cell_type": "code",
   "execution_count": 30,
   "id": "0ff2311d",
   "metadata": {},
   "outputs": [
    {
     "data": {
      "text/plain": [
       "array([1, 2, 3, 4, 5, 6, 7, 8, 1, 2, 3, 4, 5, 6, 7, 8])"
      ]
     },
     "execution_count": 30,
     "metadata": {},
     "output_type": "execute_result"
    }
   ],
   "source": [
    "a = np.array([1,2,3,4,5,6,7,8])\n",
    "b = np.array([1,2,3,4,5,6,7,8])\n",
    "c = np.concatenate((a,b))\n",
    "c"
   ]
  },
  {
   "cell_type": "code",
   "execution_count": null,
   "id": "8c764ceb",
   "metadata": {},
   "outputs": [],
   "source": [
    "# 2-D Arrays\n"
   ]
  },
  {
   "cell_type": "code",
   "execution_count": 33,
   "id": "c860be39",
   "metadata": {},
   "outputs": [],
   "source": [
    "uva= np.array([[1,2,3,4,5],[5,4,3,2,1]])\n",
    "jva= np.array([[6,7,8,9,10],[10,9,8,7,6]])"
   ]
  },
  {
   "cell_type": "code",
   "execution_count": 32,
   "id": "8e6a6caf",
   "metadata": {},
   "outputs": [
    {
     "ename": "ValueError",
     "evalue": "all the input array dimensions for the concatenation axis must match exactly, but along dimension 1, the array at index 0 has size 5 and the array at index 1 has size 4",
     "output_type": "error",
     "traceback": [
      "\u001b[1;31m---------------------------------------------------------------------------\u001b[0m",
      "\u001b[1;31mValueError\u001b[0m                                Traceback (most recent call last)",
      "\u001b[1;32m~\\AppData\\Local\\Temp/ipykernel_19876/4201010928.py\u001b[0m in \u001b[0;36m<module>\u001b[1;34m\u001b[0m\n\u001b[1;32m----> 1\u001b[1;33m \u001b[0mlva\u001b[0m \u001b[1;33m=\u001b[0m \u001b[0mnp\u001b[0m\u001b[1;33m.\u001b[0m\u001b[0mconcatenate\u001b[0m\u001b[1;33m(\u001b[0m\u001b[1;33m(\u001b[0m\u001b[0muva\u001b[0m\u001b[1;33m,\u001b[0m\u001b[0mjva\u001b[0m\u001b[1;33m)\u001b[0m\u001b[1;33m)\u001b[0m\u001b[1;33m\u001b[0m\u001b[1;33m\u001b[0m\u001b[0m\n\u001b[0m",
      "\u001b[1;32m<__array_function__ internals>\u001b[0m in \u001b[0;36mconcatenate\u001b[1;34m(*args, **kwargs)\u001b[0m\n",
      "\u001b[1;31mValueError\u001b[0m: all the input array dimensions for the concatenation axis must match exactly, but along dimension 1, the array at index 0 has size 5 and the array at index 1 has size 4"
     ]
    }
   ],
   "source": [
    "lva = np.concatenate((uva,jva))"
   ]
  },
  {
   "cell_type": "code",
   "execution_count": null,
   "id": "a1662db0",
   "metadata": {},
   "outputs": [],
   "source": []
  }
 ],
 "metadata": {
  "kernelspec": {
   "display_name": "Python 3 (ipykernel)",
   "language": "python",
   "name": "python3"
  },
  "language_info": {
   "codemirror_mode": {
    "name": "ipython",
    "version": 3
   },
   "file_extension": ".py",
   "mimetype": "text/x-python",
   "name": "python",
   "nbconvert_exporter": "python",
   "pygments_lexer": "ipython3",
   "version": "3.9.7"
  }
 },
 "nbformat": 4,
 "nbformat_minor": 5
}
