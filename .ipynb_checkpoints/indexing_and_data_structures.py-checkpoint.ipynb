{
 "cells": [
  {
   "cell_type": "markdown",
   "id": "219857b1",
   "metadata": {},
   "source": [
    "# indexing"
   ]
  },
  {
   "cell_type": "code",
   "execution_count": 107,
   "id": "fea3c792",
   "metadata": {},
   "outputs": [
    {
     "data": {
      "text/plain": [
       "'Samosa Pakora'"
      ]
     },
     "execution_count": 107,
     "metadata": {},
     "output_type": "execute_result"
    }
   ],
   "source": [
    "# make a string\n",
    "\n",
    "a = \"Samosa Pakora\"\n",
    "a"
   ]
  },
  {
   "cell_type": "code",
   "execution_count": 108,
   "id": "ed5f378c",
   "metadata": {},
   "outputs": [
    {
     "data": {
      "text/plain": [
       "'Samosa Pakora'"
      ]
     },
     "execution_count": 108,
     "metadata": {},
     "output_type": "execute_result"
    }
   ],
   "source": [
    "a"
   ]
  },
  {
   "cell_type": "code",
   "execution_count": 109,
   "id": "1ecee2a9",
   "metadata": {},
   "outputs": [
    {
     "data": {
      "text/plain": [
       "13"
      ]
     },
     "execution_count": 109,
     "metadata": {},
     "output_type": "execute_result"
    }
   ],
   "source": [
    "# length of index indeces\n",
    "len(a)"
   ]
  },
  {
   "cell_type": "code",
   "execution_count": 110,
   "id": "ca459dbb",
   "metadata": {},
   "outputs": [
    {
     "data": {
      "text/plain": [
       "'S'"
      ]
     },
     "execution_count": 110,
     "metadata": {},
     "output_type": "execute_result"
    }
   ],
   "source": [
    "a[0]"
   ]
  },
  {
   "cell_type": "code",
   "execution_count": 111,
   "id": "5ada6f6f",
   "metadata": {},
   "outputs": [
    {
     "data": {
      "text/plain": [
       "'a'"
      ]
     },
     "execution_count": 111,
     "metadata": {},
     "output_type": "execute_result"
    }
   ],
   "source": [
    "a[1]"
   ]
  },
  {
   "cell_type": "code",
   "execution_count": 112,
   "id": "7cce727f",
   "metadata": {},
   "outputs": [
    {
     "data": {
      "text/plain": [
       "'o'"
      ]
     },
     "execution_count": 112,
     "metadata": {},
     "output_type": "execute_result"
    }
   ],
   "source": [
    "a[3]"
   ]
  },
  {
   "cell_type": "code",
   "execution_count": 113,
   "id": "01f50965",
   "metadata": {},
   "outputs": [
    {
     "data": {
      "text/plain": [
       "'a'"
      ]
     },
     "execution_count": 113,
     "metadata": {},
     "output_type": "execute_result"
    }
   ],
   "source": [
    "a[12]"
   ]
  },
  {
   "cell_type": "code",
   "execution_count": 114,
   "id": "33b20d11",
   "metadata": {},
   "outputs": [
    {
     "data": {
      "text/plain": [
       "'a'"
      ]
     },
     "execution_count": 114,
     "metadata": {},
     "output_type": "execute_result"
    }
   ],
   "source": [
    "a[12]"
   ]
  },
  {
   "cell_type": "code",
   "execution_count": 115,
   "id": "64dd63c3",
   "metadata": {},
   "outputs": [
    {
     "data": {
      "text/plain": [
       "'Samosa Pakora'"
      ]
     },
     "execution_count": 115,
     "metadata": {},
     "output_type": "execute_result"
    }
   ],
   "source": [
    "a[0:13]       #last index is the exclusive index"
   ]
  },
  {
   "cell_type": "code",
   "execution_count": 116,
   "id": "e7ffc540",
   "metadata": {},
   "outputs": [
    {
     "data": {
      "text/plain": [
       "'r'"
      ]
     },
     "execution_count": 116,
     "metadata": {},
     "output_type": "execute_result"
    }
   ],
   "source": [
    "a[-2]"
   ]
  },
  {
   "cell_type": "code",
   "execution_count": 117,
   "id": "e0759469",
   "metadata": {},
   "outputs": [
    {
     "data": {
      "text/plain": [
       "'Pako'"
      ]
     },
     "execution_count": 117,
     "metadata": {},
     "output_type": "execute_result"
    }
   ],
   "source": [
    "a[-6:-2]"
   ]
  },
  {
   "cell_type": "code",
   "execution_count": 118,
   "id": "b63fd62f",
   "metadata": {},
   "outputs": [],
   "source": [
    "food = \"Biryani\""
   ]
  },
  {
   "cell_type": "markdown",
   "id": "7028aac6",
   "metadata": {},
   "source": [
    "'biryani'\n",
    "\n",
    "# string methods\n"
   ]
  },
  {
   "cell_type": "code",
   "execution_count": 119,
   "id": "dd6ec03d",
   "metadata": {},
   "outputs": [
    {
     "data": {
      "text/plain": [
       "'Biryani'"
      ]
     },
     "execution_count": 119,
     "metadata": {},
     "output_type": "execute_result"
    }
   ],
   "source": [
    "food"
   ]
  },
  {
   "cell_type": "code",
   "execution_count": 120,
   "id": "ac840906",
   "metadata": {},
   "outputs": [
    {
     "data": {
      "text/plain": [
       "7"
      ]
     },
     "execution_count": 120,
     "metadata": {},
     "output_type": "execute_result"
    }
   ],
   "source": [
    "len(food)"
   ]
  },
  {
   "cell_type": "code",
   "execution_count": 121,
   "id": "ca6c1263",
   "metadata": {},
   "outputs": [
    {
     "data": {
      "text/plain": [
       "'BIRYANI'"
      ]
     },
     "execution_count": 121,
     "metadata": {},
     "output_type": "execute_result"
    }
   ],
   "source": [
    "# did in upper case\n",
    "food.upper()"
   ]
  },
  {
   "cell_type": "code",
   "execution_count": 122,
   "id": "d33f5e1d",
   "metadata": {},
   "outputs": [
    {
     "data": {
      "text/plain": [
       "'biryani'"
      ]
     },
     "execution_count": 122,
     "metadata": {},
     "output_type": "execute_result"
    }
   ],
   "source": [
    "# did in lower case\n",
    "food.lower()"
   ]
  },
  {
   "cell_type": "code",
   "execution_count": 123,
   "id": "7fdb983a",
   "metadata": {},
   "outputs": [
    {
     "data": {
      "text/plain": [
       "'Btiryanti'"
      ]
     },
     "execution_count": 123,
     "metadata": {},
     "output_type": "execute_result"
    }
   ],
   "source": [
    "#replace\n",
    "food.replace(\"i\", \"ti\")"
   ]
  },
  {
   "cell_type": "code",
   "execution_count": 124,
   "id": "bbe58190",
   "metadata": {},
   "outputs": [
    {
     "data": {
      "text/plain": [
       "'when an object is totally or partially immersed in a liquid an upthurst adts on it equilto the weight of the liquid it displaces'"
      ]
     },
     "execution_count": 124,
     "metadata": {},
     "output_type": "execute_result"
    }
   ],
   "source": [
    "# counting a specific alphabet\n",
    "name = \"when an object is totally or partially immersed in a liquid an upthurst adts on it equilto the weight of the liquid it displaces\"\n",
    "name\n"
   ]
  },
  {
   "cell_type": "code",
   "execution_count": 125,
   "id": "66a406ae",
   "metadata": {},
   "outputs": [
    {
     "data": {
      "text/plain": [
       "8"
      ]
     },
     "execution_count": 125,
     "metadata": {},
     "output_type": "execute_result"
    }
   ],
   "source": [
    "name.count(\"a\")"
   ]
  },
  {
   "cell_type": "markdown",
   "id": "f631f37e",
   "metadata": {},
   "source": [
    "# finding index number in a string\n"
   ]
  },
  {
   "cell_type": "code",
   "execution_count": 126,
   "id": "e0a1a1fc",
   "metadata": {},
   "outputs": [
    {
     "data": {
      "text/plain": [
       "9"
      ]
     },
     "execution_count": 126,
     "metadata": {},
     "output_type": "execute_result"
    }
   ],
   "source": [
    "name.find(\"b\")"
   ]
  },
  {
   "cell_type": "code",
   "execution_count": 127,
   "id": "f389e7ed",
   "metadata": {},
   "outputs": [
    {
     "data": {
      "text/plain": [
       "2"
      ]
     },
     "execution_count": 127,
     "metadata": {},
     "output_type": "execute_result"
    }
   ],
   "source": [
    "name.find(\"e\")"
   ]
  },
  {
   "cell_type": "code",
   "execution_count": 128,
   "id": "6cc73790",
   "metadata": {},
   "outputs": [
    {
     "data": {
      "text/plain": [
       "2"
      ]
     },
     "execution_count": 128,
     "metadata": {},
     "output_type": "execute_result"
    }
   ],
   "source": [
    "name.find(\"e\")"
   ]
  },
  {
   "cell_type": "code",
   "execution_count": 129,
   "id": "0dd024dd",
   "metadata": {},
   "outputs": [
    {
     "data": {
      "text/plain": [
       "'war makes the thing complicated expensive with the increasing amount of violence,terror,reduction,tear,wear and energy explosion'"
      ]
     },
     "execution_count": 129,
     "metadata": {},
     "output_type": "execute_result"
    }
   ],
   "source": [
    "###how to split a string\n",
    "line = \"war makes the thing complicated expensive with the increasing amount of violence,terror,reduction,tear,wear and energy explosion\"\n",
    "line"
   ]
  },
  {
   "cell_type": "code",
   "execution_count": 130,
   "id": "3dd2b09a",
   "metadata": {},
   "outputs": [
    {
     "data": {
      "text/plain": [
       "['war makes the thing complicated expensive with the ',\n",
       " ' amount of violence,terror,reduction,tear,wear and energy explosion']"
      ]
     },
     "execution_count": 130,
     "metadata": {},
     "output_type": "execute_result"
    }
   ],
   "source": [
    "line.split(\"increasing\")"
   ]
  },
  {
   "cell_type": "markdown",
   "id": "fc6af125",
   "metadata": {},
   "source": [
    "# basic data structures in python\n",
    "1-tuple\n",
    "\n",
    "2-list\n",
    "\n",
    "3-dictionaries\n",
    "\n",
    "4-set"
   ]
  },
  {
   "cell_type": "markdown",
   "id": "eb7cd909",
   "metadata": {},
   "source": [
    "# 1-tuple\n",
    "-ordered collection of elements\n",
    "\n",
    "enclosed in () riund braces\n",
    "\n",
    "-different kind of element can be store\n",
    "\n",
    "-once elements are stored you cannot changed themm ie unchangeable\n"
   ]
  },
  {
   "cell_type": "code",
   "execution_count": 131,
   "id": "e3ee3066",
   "metadata": {},
   "outputs": [
    {
     "data": {
      "text/plain": [
       "(1, 'python', True, 2.5)"
      ]
     },
     "execution_count": 131,
     "metadata": {},
     "output_type": "execute_result"
    }
   ],
   "source": [
    "tup1 = (1, \"python\", True, 2.5)\n",
    "tup1"
   ]
  },
  {
   "cell_type": "code",
   "execution_count": 132,
   "id": "527673b3",
   "metadata": {},
   "outputs": [
    {
     "data": {
      "text/plain": [
       "tuple"
      ]
     },
     "execution_count": 132,
     "metadata": {},
     "output_type": "execute_result"
    }
   ],
   "source": [
    "# type of a tuple\n",
    "type(tup1)"
   ]
  },
  {
   "cell_type": "markdown",
   "id": "46aa5b8a",
   "metadata": {},
   "source": [
    "# indexing in tuple\n"
   ]
  },
  {
   "cell_type": "code",
   "execution_count": 133,
   "id": "beb57127",
   "metadata": {},
   "outputs": [
    {
     "data": {
      "text/plain": [
       "'python'"
      ]
     },
     "execution_count": 133,
     "metadata": {},
     "output_type": "execute_result"
    }
   ],
   "source": [
    "tup1[1]"
   ]
  },
  {
   "cell_type": "code",
   "execution_count": 134,
   "id": "1bdaae56",
   "metadata": {},
   "outputs": [
    {
     "data": {
      "text/plain": [
       "True"
      ]
     },
     "execution_count": 134,
     "metadata": {},
     "output_type": "execute_result"
    }
   ],
   "source": [
    "tup1[2]"
   ]
  },
  {
   "cell_type": "code",
   "execution_count": 135,
   "id": "0a96737c",
   "metadata": {},
   "outputs": [
    {
     "data": {
      "text/plain": [
       "(1, 'python', True, 2.5)"
      ]
     },
     "execution_count": 135,
     "metadata": {},
     "output_type": "execute_result"
    }
   ],
   "source": [
    "tup1[0:5]"
   ]
  },
  {
   "cell_type": "code",
   "execution_count": 136,
   "id": "7321d751",
   "metadata": {},
   "outputs": [
    {
     "data": {
      "text/plain": [
       "4"
      ]
     },
     "execution_count": 136,
     "metadata": {},
     "output_type": "execute_result"
    }
   ],
   "source": [
    "len(tup1)"
   ]
  },
  {
   "cell_type": "code",
   "execution_count": 137,
   "id": "f7bc3031",
   "metadata": {},
   "outputs": [
    {
     "data": {
      "text/plain": [
       "(2, 'tayyabhussain', 3.5, False)"
      ]
     },
     "execution_count": 137,
     "metadata": {},
     "output_type": "execute_result"
    }
   ],
   "source": [
    "tup2 = (2,  \"tayyabhussain\",  3.5,  False)\n",
    "tup2"
   ]
  },
  {
   "cell_type": "code",
   "execution_count": 138,
   "id": "8b9972f3",
   "metadata": {},
   "outputs": [
    {
     "data": {
      "text/plain": [
       "(1, 'python', True, 2.5, 2, 'tayyabhussain', 3.5, False)"
      ]
     },
     "execution_count": 138,
     "metadata": {},
     "output_type": "execute_result"
    }
   ],
   "source": [
    "#concatinate (i.e to plus to tuplr)\n",
    "tup1 + tup2"
   ]
  },
  {
   "cell_type": "code",
   "execution_count": 139,
   "id": "5b2f3912",
   "metadata": {},
   "outputs": [
    {
     "data": {
      "text/plain": [
       "(1,\n",
       " 'python',\n",
       " True,\n",
       " 2.5,\n",
       " 1,\n",
       " 'python',\n",
       " True,\n",
       " 2.5,\n",
       " 1,\n",
       " 'python',\n",
       " True,\n",
       " 2.5,\n",
       " 1,\n",
       " 'python',\n",
       " True,\n",
       " 2.5,\n",
       " 1,\n",
       " 'python',\n",
       " True,\n",
       " 2.5,\n",
       " 2,\n",
       " 'tayyabhussain',\n",
       " 3.5,\n",
       " False)"
      ]
     },
     "execution_count": 139,
     "metadata": {},
     "output_type": "execute_result"
    }
   ],
   "source": [
    "tup1*5 + tup2"
   ]
  },
  {
   "cell_type": "code",
   "execution_count": 140,
   "id": "087898f9",
   "metadata": {},
   "outputs": [
    {
     "data": {
      "text/plain": [
       "(1, 'python', True, 2.5, 2, 'tayyabhussain', 3.5, False)"
      ]
     },
     "execution_count": 140,
     "metadata": {},
     "output_type": "execute_result"
    }
   ],
   "source": [
    "tayyabhussain = tup1 + tup2\n",
    "tayyabhussain"
   ]
  },
  {
   "cell_type": "code",
   "execution_count": 141,
   "id": "ace9864b",
   "metadata": {},
   "outputs": [
    {
     "data": {
      "text/plain": [
       "(1, 'python', True, 2.5, 1, 'python', True, 2.5, 1, 'python', True, 2.5)"
      ]
     },
     "execution_count": 141,
     "metadata": {},
     "output_type": "execute_result"
    }
   ],
   "source": [
    "tup1 = tup1*3\n",
    "tup1"
   ]
  },
  {
   "cell_type": "code",
   "execution_count": 142,
   "id": "8b089cac",
   "metadata": {},
   "outputs": [
    {
     "data": {
      "text/plain": [
       "(1, 'python', True, 2.5, 2, 'tayyabhussain', 3.5, False)"
      ]
     },
     "execution_count": 142,
     "metadata": {},
     "output_type": "execute_result"
    }
   ],
   "source": [
    "tayyabhussain"
   ]
  },
  {
   "cell_type": "code",
   "execution_count": 143,
   "id": "6f2f5d9b",
   "metadata": {},
   "outputs": [
    {
     "data": {
      "text/plain": [
       "(20, 30, 40, 50, 60)"
      ]
     },
     "execution_count": 143,
     "metadata": {},
     "output_type": "execute_result"
    }
   ],
   "source": [
    "tup3 = (20,30,40,50,60)\n",
    "tup3"
   ]
  },
  {
   "cell_type": "code",
   "execution_count": 144,
   "id": "17bfe0eb",
   "metadata": {},
   "outputs": [
    {
     "data": {
      "text/plain": [
       "20"
      ]
     },
     "execution_count": 144,
     "metadata": {},
     "output_type": "execute_result"
    }
   ],
   "source": [
    "#min value\n",
    "min(tup3)"
   ]
  },
  {
   "cell_type": "code",
   "execution_count": 145,
   "id": "a83988e1",
   "metadata": {},
   "outputs": [
    {
     "data": {
      "text/plain": [
       "60"
      ]
     },
     "execution_count": 145,
     "metadata": {},
     "output_type": "execute_result"
    }
   ],
   "source": [
    "max(tup3)"
   ]
  },
  {
   "cell_type": "markdown",
   "id": "b2ace1cc",
   "metadata": {},
   "source": [
    "---"
   ]
  },
  {
   "cell_type": "markdown",
   "id": "d6b15b39",
   "metadata": {},
   "source": [
    "# 2-list\n",
    "- ordered collection of elements\n",
    "\n",
    "- enclosed in [      ] sqaure brackets\n",
    "\n",
    "- mutate able value can be changed"
   ]
  },
  {
   "cell_type": "code",
   "execution_count": 146,
   "id": "cf05ea58",
   "metadata": {},
   "outputs": [
    {
     "name": "stdout",
     "output_type": "stream",
     "text": [
      "['tayyab', 45, 'hussain', False]\n"
     ]
    }
   ],
   "source": [
    "list1 = [\"tayyab\", 45, \"hussain\", False]\n",
    "print(list1)"
   ]
  },
  {
   "cell_type": "code",
   "execution_count": 147,
   "id": "341841b8",
   "metadata": {},
   "outputs": [
    {
     "data": {
      "text/plain": [
       "list"
      ]
     },
     "execution_count": 147,
     "metadata": {},
     "output_type": "execute_result"
    }
   ],
   "source": [
    "type(list1)"
   ]
  },
  {
   "cell_type": "code",
   "execution_count": 148,
   "id": "b1fccb10",
   "metadata": {},
   "outputs": [
    {
     "data": {
      "text/plain": [
       "4"
      ]
     },
     "execution_count": 148,
     "metadata": {},
     "output_type": "execute_result"
    }
   ],
   "source": [
    "len(list1)"
   ]
  },
  {
   "cell_type": "code",
   "execution_count": 149,
   "id": "e6d2e9d1",
   "metadata": {},
   "outputs": [
    {
     "data": {
      "text/plain": [
       "'hussain'"
      ]
     },
     "execution_count": 149,
     "metadata": {},
     "output_type": "execute_result"
    }
   ],
   "source": [
    "list1[2]"
   ]
  },
  {
   "cell_type": "code",
   "execution_count": 150,
   "id": "40c3478c",
   "metadata": {},
   "outputs": [
    {
     "data": {
      "text/plain": [
       "[25, 'tayyab', 'hussain', 29, True, False]"
      ]
     },
     "execution_count": 150,
     "metadata": {},
     "output_type": "execute_result"
    }
   ],
   "source": [
    "list2 = [25, 'tayyab', 'hussain', 29, True, False]\n",
    "list2"
   ]
  },
  {
   "cell_type": "code",
   "execution_count": 151,
   "id": "96e8e65d",
   "metadata": {},
   "outputs": [
    {
     "data": {
      "text/plain": [
       "['tayyab', 45, 'hussain', False, 25, 'tayyab', 'hussain', 29, True, False]"
      ]
     },
     "execution_count": 151,
     "metadata": {},
     "output_type": "execute_result"
    }
   ],
   "source": [
    "list1 + list2"
   ]
  },
  {
   "cell_type": "code",
   "execution_count": 152,
   "id": "2283c205",
   "metadata": {},
   "outputs": [
    {
     "data": {
      "text/plain": [
       "[False, 'hussain', 45, 'tayyab']"
      ]
     },
     "execution_count": 152,
     "metadata": {},
     "output_type": "execute_result"
    }
   ],
   "source": [
    "list1.reverse()\n",
    "list1"
   ]
  },
  {
   "cell_type": "code",
   "execution_count": 153,
   "id": "6563d70c",
   "metadata": {},
   "outputs": [
    {
     "data": {
      "text/plain": [
       "[False, 'hussain', 45, 'tayyab']"
      ]
     },
     "execution_count": 153,
     "metadata": {},
     "output_type": "execute_result"
    }
   ],
   "source": [
    "list1"
   ]
  },
  {
   "cell_type": "code",
   "execution_count": 154,
   "id": "79208ade",
   "metadata": {},
   "outputs": [
    {
     "data": {
      "text/plain": [
       "[25, 'tayyab', 'hussain', 29, True, False]"
      ]
     },
     "execution_count": 154,
     "metadata": {},
     "output_type": "execute_result"
    }
   ],
   "source": [
    "list2"
   ]
  },
  {
   "cell_type": "code",
   "execution_count": 155,
   "id": "0babee80",
   "metadata": {},
   "outputs": [
    {
     "data": {
      "text/plain": [
       "[False, 'hussain', 45, 'tayyab']"
      ]
     },
     "execution_count": 155,
     "metadata": {},
     "output_type": "execute_result"
    }
   ],
   "source": [
    "list1"
   ]
  },
  {
   "cell_type": "code",
   "execution_count": 156,
   "id": "cde7e098",
   "metadata": {},
   "outputs": [
    {
     "data": {
      "text/plain": [
       "[25, 'tayyab', 'hussain', 29, True, False]"
      ]
     },
     "execution_count": 156,
     "metadata": {},
     "output_type": "execute_result"
    }
   ],
   "source": [
    "list2"
   ]
  },
  {
   "cell_type": "code",
   "execution_count": 166,
   "id": "f6322db6",
   "metadata": {},
   "outputs": [
    {
     "data": {
      "text/plain": [
       "[False,\n",
       " 'hussain',\n",
       " 45,\n",
       " 'tayyab',\n",
       " 'codanics,youtube,channel',\n",
       " 'codanics,youtube,channel',\n",
       " 'codanics,youtube,channel',\n",
       " 'codanics,youtube,channel',\n",
       " 'codanics,youtube,channel',\n",
       " 'codanics,youtube,channel',\n",
       " 'codanics,youtube,channel',\n",
       " 'codanics,youtube,channel',\n",
       " 'codanics,youtube,channel']"
      ]
     },
     "execution_count": 166,
     "metadata": {},
     "output_type": "execute_result"
    }
   ],
   "source": [
    "list1.append(\"codanics,youtube,channel\")\n",
    "list1"
   ]
  },
  {
   "cell_type": "code",
   "execution_count": null,
   "id": "3fb8719a",
   "metadata": {},
   "outputs": [],
   "source": [
    "list1.count()\n",
    "#list.count function"
   ]
  },
  {
   "cell_type": "code",
   "execution_count": 171,
   "id": "ef503aa5",
   "metadata": {},
   "outputs": [
    {
     "data": {
      "text/plain": [
       "[10, 20, 30, 10000, 50, 60, 70, 80, 90, 100]"
      ]
     },
     "execution_count": 171,
     "metadata": {},
     "output_type": "execute_result"
    }
   ],
   "source": [
    "list3 = [10, 20, 30, 10000, 50, 60,  70, 80, 90, 100]\n",
    "list3"
   ]
  },
  {
   "cell_type": "code",
   "execution_count": 169,
   "id": "91e6e58a",
   "metadata": {},
   "outputs": [
    {
     "data": {
      "text/plain": [
       "10"
      ]
     },
     "execution_count": 169,
     "metadata": {},
     "output_type": "execute_result"
    }
   ],
   "source": [
    "len(list3)"
   ]
  },
  {
   "cell_type": "code",
   "execution_count": 172,
   "id": "5ba41271",
   "metadata": {},
   "outputs": [
    {
     "data": {
      "text/plain": [
       "[10, 20, 30, 50, 60, 70, 80, 90, 100, 10000]"
      ]
     },
     "execution_count": 172,
     "metadata": {},
     "output_type": "execute_result"
    }
   ],
   "source": [
    "#sorting a list\n",
    "list3.sort()\n",
    "list3"
   ]
  },
  {
   "cell_type": "code",
   "execution_count": 174,
   "id": "1d66c613",
   "metadata": {},
   "outputs": [
    {
     "data": {
      "text/plain": [
       "[10,\n",
       " 20,\n",
       " 30,\n",
       " 50,\n",
       " 60,\n",
       " 70,\n",
       " 80,\n",
       " 90,\n",
       " 100,\n",
       " 10000,\n",
       " 10,\n",
       " 20,\n",
       " 30,\n",
       " 50,\n",
       " 60,\n",
       " 70,\n",
       " 80,\n",
       " 90,\n",
       " 100,\n",
       " 10000,\n",
       " 10,\n",
       " 20,\n",
       " 30,\n",
       " 50,\n",
       " 60,\n",
       " 70,\n",
       " 80,\n",
       " 90,\n",
       " 100,\n",
       " 10000]"
      ]
     },
     "execution_count": 174,
     "metadata": {},
     "output_type": "execute_result"
    }
   ],
   "source": [
    "list3*3"
   ]
  },
  {
   "cell_type": "code",
   "execution_count": 175,
   "id": "9238d98e",
   "metadata": {},
   "outputs": [
    {
     "data": {
      "text/plain": [
       "[False,\n",
       " 'hussain',\n",
       " 45,\n",
       " 'tayyab',\n",
       " 'codanics,youtube,channel',\n",
       " 'codanics,youtube,channel',\n",
       " 'codanics,youtube,channel',\n",
       " 'codanics,youtube,channel',\n",
       " 'codanics,youtube,channel',\n",
       " 'codanics,youtube,channel',\n",
       " 'codanics,youtube,channel',\n",
       " 'codanics,youtube,channel',\n",
       " 'codanics,youtube,channel',\n",
       " 25,\n",
       " 'tayyab',\n",
       " 'hussain',\n",
       " 29,\n",
       " True,\n",
       " False]"
      ]
     },
     "execution_count": 175,
     "metadata": {},
     "output_type": "execute_result"
    }
   ],
   "source": [
    "list1 + list2"
   ]
  },
  {
   "cell_type": "code",
   "execution_count": 178,
   "id": "6a475bf5",
   "metadata": {},
   "outputs": [
    {
     "data": {
      "text/plain": [
       "[False,\n",
       " 'hussain',\n",
       " 45,\n",
       " 'tayyab',\n",
       " 'codanics,youtube,channel',\n",
       " 'codanics,youtube,channel',\n",
       " 'codanics,youtube,channel',\n",
       " 'codanics,youtube,channel',\n",
       " 'codanics,youtube,channel',\n",
       " 'codanics,youtube,channel',\n",
       " 'codanics,youtube,channel',\n",
       " 'codanics,youtube,channel',\n",
       " 'codanics,youtube,channel',\n",
       " 25,\n",
       " 'tayyab',\n",
       " 'hussain',\n",
       " 29,\n",
       " True,\n",
       " False,\n",
       " 10,\n",
       " 20,\n",
       " 30,\n",
       " 50,\n",
       " 60,\n",
       " 70,\n",
       " 80,\n",
       " 90,\n",
       " 100,\n",
       " 10000]"
      ]
     },
     "execution_count": 178,
     "metadata": {},
     "output_type": "execute_result"
    }
   ],
   "source": [
    "list1 + list2 +list3"
   ]
  },
  {
   "cell_type": "markdown",
   "id": "5944de69",
   "metadata": {},
   "source": [
    "#  3-dictionaries\n",
    "\n",
    "- unordered collection of elements\n",
    "\n",
    "- key and value\n",
    "\n",
    "- use with curly brackets or braces { }\n",
    "\n",
    "- mutataeable/ change the values"
   ]
  },
  {
   "cell_type": "code",
   "execution_count": 190,
   "id": "bef72423",
   "metadata": {},
   "outputs": [
    {
     "data": {
      "text/plain": [
       "{'samsung': 10, 'apple': 20, 'vivo': 30, 'huawei': 40, 'nokia': 50}"
      ]
     },
     "execution_count": 190,
     "metadata": {},
     "output_type": "execute_result"
    }
   ],
   "source": [
    "# for example samsung and other mobiles phone products\n",
    "phones  =  {\"samsung\":10,   \"apple\":20,   \"vivo\":30,   \"huawei\":40,   \"nokia\":50}\n",
    "phones\n"
   ]
  },
  {
   "cell_type": "code",
   "execution_count": 191,
   "id": "bc6dd028",
   "metadata": {},
   "outputs": [
    {
     "data": {
      "text/plain": [
       "dict"
      ]
     },
     "execution_count": 191,
     "metadata": {},
     "output_type": "execute_result"
    }
   ],
   "source": [
    "type(phones)"
   ]
  },
  {
   "cell_type": "code",
   "execution_count": 195,
   "id": "572659ce",
   "metadata": {},
   "outputs": [
    {
     "data": {
      "text/plain": [
       "dict_keys(['samsung', 'apple', 'vivo', 'huawei', 'nokia'])"
      ]
     },
     "execution_count": 195,
     "metadata": {},
     "output_type": "execute_result"
    }
   ],
   "source": [
    "keys1 = phones.keys()\n",
    "keys1"
   ]
  },
  {
   "cell_type": "code",
   "execution_count": 196,
   "id": "d656976d",
   "metadata": {},
   "outputs": [
    {
     "data": {
      "text/plain": [
       "dict_values([10, 20, 30, 40, 50])"
      ]
     },
     "execution_count": 196,
     "metadata": {},
     "output_type": "execute_result"
    }
   ],
   "source": [
    "values1 = phones.values()\n",
    "values1"
   ]
  },
  {
   "cell_type": "code",
   "execution_count": 199,
   "id": "ee0652bb",
   "metadata": {},
   "outputs": [
    {
     "data": {
      "text/plain": [
       "{'samsung': 10,\n",
       " 'apple': 20,\n",
       " 'vivo': 30,\n",
       " 'huawei': 40,\n",
       " 'nokia': 50,\n",
       " 'oneplus': 60}"
      ]
     },
     "execution_count": 199,
     "metadata": {},
     "output_type": "execute_result"
    }
   ],
   "source": [
    "#adding new element by update funtion\n",
    "phones[\"oneplus\"]=60\n",
    "phones"
   ]
  },
  {
   "cell_type": "code",
   "execution_count": 200,
   "id": "aea80b2f",
   "metadata": {},
   "outputs": [
    {
     "data": {
      "text/plain": [
       "{'samsung': 10,\n",
       " 'apple': 20,\n",
       " 'vivo': 30,\n",
       " 'huawei': 40,\n",
       " 'nokia': 50,\n",
       " 'oneplus': 65}"
      ]
     },
     "execution_count": 200,
     "metadata": {},
     "output_type": "execute_result"
    }
   ],
   "source": [
    "# for example changing the oneplus products\n",
    "phones[\"oneplus\"]=65\n",
    "phones"
   ]
  },
  {
   "cell_type": "code",
   "execution_count": 201,
   "id": "1196c4ea",
   "metadata": {},
   "outputs": [
    {
     "data": {
      "text/plain": [
       "{'ipad': 30, 'samsungtabs': 40, 'huaweitabs': 50}"
      ]
     },
     "execution_count": 201,
     "metadata": {},
     "output_type": "execute_result"
    }
   ],
   "source": [
    "tablets = {\"ipad\":30,  \"samsungtabs\":40,  \"huaweitabs\":50}\n",
    "tablets"
   ]
  },
  {
   "cell_type": "code",
   "execution_count": 206,
   "id": "4bb43e4b",
   "metadata": {},
   "outputs": [
    {
     "data": {
      "text/plain": [
       "{'ipad': 30,\n",
       " 'samsungtabs': 40,\n",
       " 'huaweitabs': 50,\n",
       " 'samsung': 10,\n",
       " 'apple': 20,\n",
       " 'vivo': 30,\n",
       " 'huawei': 40,\n",
       " 'nokia': 50,\n",
       " 'oneplus': 65}"
      ]
     },
     "execution_count": 206,
     "metadata": {},
     "output_type": "execute_result"
    }
   ],
   "source": [
    "phones.update(tablets)\n",
    "tablets.update(phones)\n",
    "phones\n",
    "tablets\n"
   ]
  },
  {
   "cell_type": "code",
   "execution_count": 207,
   "id": "cf4dbe2f",
   "metadata": {},
   "outputs": [
    {
     "data": {
      "text/plain": [
       "{'samsung': 10,\n",
       " 'apple': 20,\n",
       " 'vivo': 30,\n",
       " 'huawei': 40,\n",
       " 'nokia': 50,\n",
       " 'oneplus': 65,\n",
       " 'ipad': 30,\n",
       " 'samsungtabs': 40,\n",
       " 'huaweitabs': 50}"
      ]
     },
     "execution_count": 207,
     "metadata": {},
     "output_type": "execute_result"
    }
   ],
   "source": [
    "phones"
   ]
  },
  {
   "cell_type": "code",
   "execution_count": 208,
   "id": "4b1ace31",
   "metadata": {},
   "outputs": [
    {
     "data": {
      "text/plain": [
       "{'ipad': 30,\n",
       " 'samsungtabs': 40,\n",
       " 'huaweitabs': 50,\n",
       " 'samsung': 10,\n",
       " 'apple': 20,\n",
       " 'vivo': 30,\n",
       " 'huawei': 40,\n",
       " 'nokia': 50,\n",
       " 'oneplus': 65}"
      ]
     },
     "execution_count": 208,
     "metadata": {},
     "output_type": "execute_result"
    }
   ],
   "source": [
    "tablets"
   ]
  },
  {
   "cell_type": "markdown",
   "id": "cb1fae25",
   "metadata": {},
   "source": [
    "# 4-sets\n",
    "- unordered and inindexed\n",
    "- same curly braces are used like dictionaries\n",
    "- no dublicated are allowed"
   ]
  },
  {
   "cell_type": "code",
   "execution_count": 263,
   "id": "141de99a",
   "metadata": {},
   "outputs": [
    {
     "data": {
      "text/plain": [
       "{1, 2.3, 4.5, 'hussain', 'introvert', 'tayyab', 'tayyab:hussain'}"
      ]
     },
     "execution_count": 263,
     "metadata": {},
     "output_type": "execute_result"
    }
   ],
   "source": [
    "s1 = {1, 2.3, 4.5,\"tayyab:hussain\", \"tayyab\", \"hussain\", \"introvert\"}\n",
    "s1"
   ]
  },
  {
   "cell_type": "code",
   "execution_count": 222,
   "id": "756b95fe",
   "metadata": {},
   "outputs": [
    {
     "data": {
      "text/plain": [
       "{' ',\n",
       " 1,\n",
       " 2.3,\n",
       " 4.5,\n",
       " 'a',\n",
       " 'c',\n",
       " 'e',\n",
       " 'f',\n",
       " 'h',\n",
       " 'hussain',\n",
       " 'i',\n",
       " 'introvert',\n",
       " 'm',\n",
       " 'n',\n",
       " 'o',\n",
       " 'p',\n",
       " 'q',\n",
       " 'quantum theory of physics',\n",
       " 'r',\n",
       " 's',\n",
       " 't',\n",
       " 'tayyab',\n",
       " 'tayyab:hussain',\n",
       " 'u',\n",
       " 'y'}"
      ]
     },
     "execution_count": 222,
     "metadata": {},
     "output_type": "execute_result"
    }
   ],
   "source": [
    "s1.add(\"quantum theory of physics\")\n",
    "s1"
   ]
  },
  {
   "cell_type": "code",
   "execution_count": 223,
   "id": "1857556f",
   "metadata": {},
   "outputs": [
    {
     "data": {
      "text/plain": [
       "{' ',\n",
       " 1,\n",
       " 2.3,\n",
       " 4.5,\n",
       " 'a',\n",
       " 'c',\n",
       " 'e',\n",
       " 'f',\n",
       " 'h',\n",
       " 'hussain',\n",
       " 'i',\n",
       " 'introvert',\n",
       " 'm',\n",
       " 'n',\n",
       " 'o',\n",
       " 'p',\n",
       " 'q',\n",
       " 'quantum theory of physics',\n",
       " 'r',\n",
       " 's',\n",
       " 't',\n",
       " 'tayyab',\n",
       " 'tayyab:hussain',\n",
       " 'u',\n",
       " 'y'}"
      ]
     },
     "execution_count": 223,
     "metadata": {},
     "output_type": "execute_result"
    }
   ],
   "source": [
    "s1"
   ]
  },
  {
   "cell_type": "code",
   "execution_count": 224,
   "id": "e9267d9b",
   "metadata": {},
   "outputs": [],
   "source": [
    "s1.remove(\"introvert\")"
   ]
  },
  {
   "cell_type": "code",
   "execution_count": 225,
   "id": "9168336a",
   "metadata": {},
   "outputs": [
    {
     "data": {
      "text/plain": [
       "{' ',\n",
       " 1,\n",
       " 2.3,\n",
       " 4.5,\n",
       " 'a',\n",
       " 'c',\n",
       " 'e',\n",
       " 'f',\n",
       " 'h',\n",
       " 'hussain',\n",
       " 'i',\n",
       " 'm',\n",
       " 'n',\n",
       " 'o',\n",
       " 'p',\n",
       " 'q',\n",
       " 'quantum theory of physics',\n",
       " 'r',\n",
       " 's',\n",
       " 't',\n",
       " 'tayyab',\n",
       " 'tayyab:hussain',\n",
       " 'u',\n",
       " 'y'}"
      ]
     },
     "execution_count": 225,
     "metadata": {},
     "output_type": "execute_result"
    }
   ],
   "source": [
    "s1"
   ]
  },
  {
   "cell_type": "code",
   "execution_count": 227,
   "id": "a5e6895d",
   "metadata": {},
   "outputs": [
    {
     "data": {
      "text/plain": [
       "{1, 2, 3, 4, 5, 'learning with codanics', 'python', 'tayyab'}"
      ]
     },
     "execution_count": 227,
     "metadata": {},
     "output_type": "execute_result"
    }
   ],
   "source": [
    "s2 = {1,2,3,4,5,\"tayyab\", \"learning with codanics\", \"python\"}\n",
    "s2"
   ]
  },
  {
   "cell_type": "code",
   "execution_count": 228,
   "id": "5ca7d4ab",
   "metadata": {},
   "outputs": [
    {
     "data": {
      "text/plain": [
       "{1, 2, 3, 4, 'learning with codanics', 'python', 'tayyab'}"
      ]
     },
     "execution_count": 228,
     "metadata": {},
     "output_type": "execute_result"
    }
   ],
   "source": [
    "s2.remove(5)\n",
    "s2"
   ]
  },
  {
   "cell_type": "code",
   "execution_count": 230,
   "id": "9c7435dd",
   "metadata": {},
   "outputs": [
    {
     "data": {
      "text/plain": [
       "{1, 2, 3, 4, 5, 'learning with codanics', 'python', 'tayyab'}"
      ]
     },
     "execution_count": 230,
     "metadata": {},
     "output_type": "execute_result"
    }
   ],
   "source": [
    "s2.add(5)\n",
    "s2"
   ]
  },
  {
   "cell_type": "code",
   "execution_count": 237,
   "id": "22726b58",
   "metadata": {},
   "outputs": [
    {
     "data": {
      "text/plain": [
       "{'batman', 'green', 'red', 'tayyab'}"
      ]
     },
     "execution_count": 237,
     "metadata": {},
     "output_type": "execute_result"
    }
   ],
   "source": [
    "s3 = {'green', \"red\", \"tayyab\", \"batman\"}\n",
    "s3"
   ]
  },
  {
   "cell_type": "code",
   "execution_count": 238,
   "id": "c3e6d8f8",
   "metadata": {},
   "outputs": [
    {
     "data": {
      "text/plain": [
       "set()"
      ]
     },
     "execution_count": 238,
     "metadata": {},
     "output_type": "execute_result"
    }
   ],
   "source": [
    "# clearing the cell\n",
    "s3.clear()\n",
    "s3"
   ]
  },
  {
   "cell_type": "code",
   "execution_count": 239,
   "id": "054cf037",
   "metadata": {},
   "outputs": [
    {
     "data": {
      "text/plain": [
       "set()"
      ]
     },
     "execution_count": 239,
     "metadata": {},
     "output_type": "execute_result"
    }
   ],
   "source": [
    "s3"
   ]
  },
  {
   "cell_type": "code",
   "execution_count": 240,
   "id": "1d178992",
   "metadata": {},
   "outputs": [
    {
     "data": {
      "text/plain": [
       "{'batman', 'green', 'panda', 'red', 'tayyab'}"
      ]
     },
     "execution_count": 240,
     "metadata": {},
     "output_type": "execute_result"
    }
   ],
   "source": [
    "s4 =  {'green', \"red\", \"tayyab\", \"batman\", \"panda\"}\n",
    "s4"
   ]
  },
  {
   "cell_type": "code",
   "execution_count": 241,
   "id": "d1316b12",
   "metadata": {},
   "outputs": [],
   "source": [
    "# deleting the cell\n",
    "del s4"
   ]
  },
  {
   "cell_type": "code",
   "execution_count": 242,
   "id": "cf13a962",
   "metadata": {},
   "outputs": [
    {
     "ename": "NameError",
     "evalue": "name 's4' is not defined",
     "output_type": "error",
     "traceback": [
      "\u001b[1;31m---------------------------------------------------------------------------\u001b[0m",
      "\u001b[1;31mNameError\u001b[0m                                 Traceback (most recent call last)",
      "\u001b[1;32m~\\AppData\\Local\\Temp/ipykernel_32696/702287336.py\u001b[0m in \u001b[0;36m<module>\u001b[1;34m\u001b[0m\n\u001b[1;32m----> 1\u001b[1;33m \u001b[0ms4\u001b[0m\u001b[1;33m\u001b[0m\u001b[1;33m\u001b[0m\u001b[0m\n\u001b[0m",
      "\u001b[1;31mNameError\u001b[0m: name 's4' is not defined"
     ]
    }
   ],
   "source": [
    "s4"
   ]
  },
  {
   "cell_type": "code",
   "execution_count": 254,
   "id": "b4b35e41",
   "metadata": {},
   "outputs": [
    {
     "name": "stdout",
     "output_type": "stream",
     "text": [
      "green\n",
      "batman\n",
      "red\n",
      "panda\n",
      "tayyab\n"
     ]
    }
   ],
   "source": [
    "# adding the loopcell\n",
    "s5 =  {'green', \"red\", \"tayyab\", \"batman\", \"panda\"}\n",
    "\n",
    "for x in s5:\n",
    "  print(x)\n",
    "\n"
   ]
  },
  {
   "cell_type": "code",
   "execution_count": 274,
   "id": "e37c93c5",
   "metadata": {},
   "outputs": [
    {
     "name": "stdout",
     "output_type": "stream",
     "text": [
      "{'plus'}\n"
     ]
    }
   ],
   "source": [
    "# doing the intersection_update of set6 from set5\n",
    "set5 = {1000, \"plus\"}\n",
    "set6 = {5000, \"plus\"}\n",
    "set5.intersection_update(set6)\n",
    "print(set5)\n"
   ]
  },
  {
   "cell_type": "code",
   "execution_count": 277,
   "id": "5f335426",
   "metadata": {},
   "outputs": [
    {
     "data": {
      "text/plain": [
       "{1000, 5000, 6000, 'minus', 'plus'}"
      ]
     },
     "execution_count": 277,
     "metadata": {},
     "output_type": "execute_result"
    }
   ],
   "source": [
    "# joining two cells by union method in this double value will have single output as with the case of plus\n",
    "set5 = {1000, \"plus\"}\n",
    "set6 = {5000, \"plus\"}\n",
    "set7= {6000, \"minus\"}\n",
    "sets = set5.union(set6,set7)\n",
    "sets\n"
   ]
  },
  {
   "cell_type": "code",
   "execution_count": 278,
   "id": "a1167e72",
   "metadata": {},
   "outputs": [
    {
     "data": {
      "text/plain": [
       "{1000, 'plus'}"
      ]
     },
     "execution_count": 278,
     "metadata": {},
     "output_type": "execute_result"
    }
   ],
   "source": [
    "set5"
   ]
  },
  {
   "cell_type": "code",
   "execution_count": 279,
   "id": "88cb9be7",
   "metadata": {},
   "outputs": [
    {
     "data": {
      "text/plain": [
       "{5000, 'plus'}"
      ]
     },
     "execution_count": 279,
     "metadata": {},
     "output_type": "execute_result"
    }
   ],
   "source": [
    "set6"
   ]
  },
  {
   "cell_type": "code",
   "execution_count": null,
   "id": "fd7075c3",
   "metadata": {},
   "outputs": [],
   "source": [
    "# The symmetric_difference_update() method will keep only the elements that are NOT present in both sets. it is the opposite of intersection_update"
   ]
  },
  {
   "cell_type": "markdown",
   "id": "36d219c8",
   "metadata": {},
   "source": [
    "#    PRACTICE THE ABOVE ALL ONCE AGAIN PLEASE TAYYAB FOR DATA SCIENTIST"
   ]
  }
 ],
 "metadata": {
  "kernelspec": {
   "display_name": "Python 3 (ipykernel)",
   "language": "python",
   "name": "python3"
  },
  "language_info": {
   "codemirror_mode": {
    "name": "ipython",
    "version": 3
   },
   "file_extension": ".py",
   "mimetype": "text/x-python",
   "name": "python",
   "nbconvert_exporter": "python",
   "pygments_lexer": "ipython3",
   "version": "3.9.7"
  }
 },
 "nbformat": 4,
 "nbformat_minor": 5
}
