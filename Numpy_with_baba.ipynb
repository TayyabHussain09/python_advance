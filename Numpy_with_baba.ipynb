{
 "cells": [
  {
   "cell_type": "markdown",
   "id": "70d8bb63",
   "metadata": {},
   "source": [
    "#  i have already knoe numpy basics fromits main web just practicing again"
   ]
  },
  {
   "cell_type": "markdown",
   "id": "507b84c1",
   "metadata": {},
   "source": [
    "# creatimg an array using numpy"
   ]
  },
  {
   "cell_type": "code",
   "execution_count": 3,
   "id": "75a33122",
   "metadata": {},
   "outputs": [
    {
     "data": {
      "text/plain": [
       "array(['pakora', 'samosa', 'raita'], dtype='<U6')"
      ]
     },
     "execution_count": 3,
     "metadata": {},
     "output_type": "execute_result"
    }
   ],
   "source": [
    "import numpy as np\n",
    "a = np.array([\"pakora\", \"samosa\", \"raita\"])\n",
    "a"
   ]
  },
  {
   "cell_type": "code",
   "execution_count": 4,
   "id": "271b57ab",
   "metadata": {},
   "outputs": [
    {
     "data": {
      "text/plain": [
       "array([5, 5, 5])"
      ]
     },
     "execution_count": 4,
     "metadata": {},
     "output_type": "execute_result"
    }
   ],
   "source": [
    "price = np.array([5,5,5,])\n",
    "price"
   ]
  },
  {
   "cell_type": "code",
   "execution_count": 5,
   "id": "f3a02a34",
   "metadata": {},
   "outputs": [
    {
     "data": {
      "text/plain": [
       "numpy.ndarray"
      ]
     },
     "execution_count": 5,
     "metadata": {},
     "output_type": "execute_result"
    }
   ],
   "source": [
    "type(price)"
   ]
  },
  {
   "cell_type": "code",
   "execution_count": 6,
   "id": "8ff9d106",
   "metadata": {},
   "outputs": [
    {
     "data": {
      "text/plain": [
       "numpy.ndarray"
      ]
     },
     "execution_count": 6,
     "metadata": {},
     "output_type": "execute_result"
    }
   ],
   "source": [
    "type(a)"
   ]
  },
  {
   "cell_type": "code",
   "execution_count": 7,
   "id": "689d0a1f",
   "metadata": {},
   "outputs": [
    {
     "data": {
      "text/plain": [
       "3"
      ]
     },
     "execution_count": 7,
     "metadata": {},
     "output_type": "execute_result"
    }
   ],
   "source": [
    "len(a)"
   ]
  },
  {
   "cell_type": "code",
   "execution_count": 9,
   "id": "586c4857",
   "metadata": {},
   "outputs": [
    {
     "data": {
      "text/plain": [
       "5"
      ]
     },
     "execution_count": 9,
     "metadata": {},
     "output_type": "execute_result"
    }
   ],
   "source": [
    "price[2]"
   ]
  },
  {
   "cell_type": "code",
   "execution_count": 10,
   "id": "a8d2c527",
   "metadata": {},
   "outputs": [
    {
     "data": {
      "text/plain": [
       "array([5, 5, 5])"
      ]
     },
     "execution_count": 10,
     "metadata": {},
     "output_type": "execute_result"
    }
   ],
   "source": [
    "price[0:]"
   ]
  },
  {
   "cell_type": "code",
   "execution_count": 11,
   "id": "4bb257ad",
   "metadata": {},
   "outputs": [
    {
     "data": {
      "text/plain": [
       "'samosa'"
      ]
     },
     "execution_count": 11,
     "metadata": {},
     "output_type": "execute_result"
    }
   ],
   "source": [
    "a[1]"
   ]
  },
  {
   "cell_type": "code",
   "execution_count": 12,
   "id": "26bd8302",
   "metadata": {},
   "outputs": [
    {
     "data": {
      "text/plain": [
       "5.0"
      ]
     },
     "execution_count": 12,
     "metadata": {},
     "output_type": "execute_result"
    }
   ],
   "source": [
    "price.mean(0)"
   ]
  },
  {
   "cell_type": "code",
   "execution_count": 13,
   "id": "751e6dde",
   "metadata": {},
   "outputs": [
    {
     "data": {
      "text/plain": [
       "array([0., 0., 0., 0., 0., 0., 0., 0., 0., 0., 0., 0.])"
      ]
     },
     "execution_count": 13,
     "metadata": {},
     "output_type": "execute_result"
    }
   ],
   "source": [
    "np.zeros(12)"
   ]
  },
  {
   "cell_type": "code",
   "execution_count": 14,
   "id": "426e8e29",
   "metadata": {},
   "outputs": [
    {
     "data": {
      "text/plain": [
       "array([1., 1., 1., 1., 1., 1., 1., 1., 1., 1., 1., 1., 1., 1., 1., 1., 1.,\n",
       "       1., 1., 1., 1., 1., 1., 1., 1., 1., 1., 1., 1., 1., 1., 1., 1., 1.,\n",
       "       1., 1., 1., 1., 1., 1., 1., 1., 1., 1., 1., 1., 1.])"
      ]
     },
     "execution_count": 14,
     "metadata": {},
     "output_type": "execute_result"
    }
   ],
   "source": [
    "np.ones(47)"
   ]
  },
  {
   "cell_type": "code",
   "execution_count": 15,
   "id": "d068c3d8",
   "metadata": {},
   "outputs": [
    {
     "data": {
      "text/plain": [
       "array([9.65336682e-312, 9.65344485e-312, 9.65344524e-312, 9.65344511e-312,\n",
       "       9.65344511e-312, 9.65344511e-312, 9.65344511e-312, 9.65344510e-312,\n",
       "       9.65344510e-312, 9.65344512e-312, 9.65344510e-312, 9.65344510e-312,\n",
       "       9.65344508e-312, 9.65344508e-312, 9.65344506e-312, 9.65344505e-312,\n",
       "       9.65344505e-312, 9.65344505e-312, 9.65344505e-312, 9.65344505e-312,\n",
       "       9.65344532e-312, 9.65344532e-312, 9.65344532e-312, 9.65344532e-312,\n",
       "       9.65344532e-312, 9.65344532e-312, 9.65344532e-312, 9.65344532e-312,\n",
       "       9.65344532e-312, 9.65344532e-312, 9.65344532e-312, 9.65346440e-312,\n",
       "       9.65346243e-312, 9.65346243e-312, 9.65346243e-312, 9.65346243e-312,\n",
       "       9.65345993e-312, 9.65345993e-312, 9.65345992e-312, 9.65345998e-312,\n",
       "       9.65345999e-312, 9.65345998e-312, 9.65345998e-312, 9.65345999e-312,\n",
       "       9.65346246e-312, 9.65346247e-312, 9.65346247e-312, 9.65346247e-312,\n",
       "       9.65346248e-312, 9.65346253e-312, 9.65346253e-312, 9.65346254e-312,\n",
       "       9.65346002e-312, 9.65346002e-312, 9.65346002e-312, 9.65346257e-312,\n",
       "       9.65346257e-312, 9.65346257e-312, 9.65346258e-312, 9.65346258e-312,\n",
       "       9.65346005e-312, 9.65346006e-312, 9.65346006e-312, 9.65346007e-312,\n",
       "       9.65346006e-312, 9.65346006e-312, 9.65346007e-312, 9.65346263e-312,\n",
       "       9.65346263e-312, 9.65346264e-312, 9.65346264e-312, 0.00000000e+000,\n",
       "       0.00000000e+000, 0.00000000e+000, 0.00000000e+000, 0.00000000e+000])"
      ]
     },
     "execution_count": 15,
     "metadata": {},
     "output_type": "execute_result"
    }
   ],
   "source": [
    "np.empty(76)"
   ]
  },
  {
   "cell_type": "code",
   "execution_count": 17,
   "id": "a799c8e7",
   "metadata": {},
   "outputs": [
    {
     "data": {
      "text/plain": [
       "array([ 0,  1,  2,  3,  4,  5,  6,  7,  8,  9, 10, 11])"
      ]
     },
     "execution_count": 17,
     "metadata": {},
     "output_type": "execute_result"
    }
   ],
   "source": [
    "np.arange(12) # last word is always exclusive"
   ]
  },
  {
   "cell_type": "code",
   "execution_count": 19,
   "id": "eb92ec8f",
   "metadata": {},
   "outputs": [
    {
     "data": {
      "text/plain": [
       "array([ 3,  6,  9, 12, 15, 18, 21, 24, 27, 30, 33, 36, 39, 42, 45, 48, 51,\n",
       "       54])"
      ]
     },
     "execution_count": 19,
     "metadata": {},
     "output_type": "execute_result"
    }
   ],
   "source": [
    "# specifying th range # last number showing the gap  meens faraq se in the language of baba g\n",
    "np.arange(3, 56,3)"
   ]
  },
  {
   "cell_type": "code",
   "execution_count": 20,
   "id": "485bb766",
   "metadata": {},
   "outputs": [
    {
     "data": {
      "text/plain": [
       "array([  1.        ,  12.34090909,  23.68181818,  35.02272727,\n",
       "        46.36363636,  57.70454545,  69.04545455,  80.38636364,\n",
       "        91.72727273, 103.06818182, 114.40909091, 125.75      ,\n",
       "       137.09090909, 148.43181818, 159.77272727, 171.11363636,\n",
       "       182.45454545, 193.79545455, 205.13636364, 216.47727273,\n",
       "       227.81818182, 239.15909091, 250.5       , 261.84090909,\n",
       "       273.18181818, 284.52272727, 295.86363636, 307.20454545,\n",
       "       318.54545455, 329.88636364, 341.22727273, 352.56818182,\n",
       "       363.90909091, 375.25      , 386.59090909, 397.93181818,\n",
       "       409.27272727, 420.61363636, 431.95454545, 443.29545455,\n",
       "       454.63636364, 465.97727273, 477.31818182, 488.65909091,\n",
       "       500.        ])"
      ]
     },
     "execution_count": 20,
     "metadata": {},
     "output_type": "execute_result"
    }
   ],
   "source": [
    "# practicing again the line space\n",
    "np.linspace(1, 500, num=45)"
   ]
  },
  {
   "cell_type": "code",
   "execution_count": null,
   "id": "70098d53",
   "metadata": {},
   "outputs": [],
   "source": [
    "# if you want to sort some array name fg haha then type haha.sort()"
   ]
  },
  {
   "cell_type": "code",
   "execution_count": 29,
   "id": "664783d5",
   "metadata": {},
   "outputs": [],
   "source": [
    "a = np.array([1,2,3,4,5,6,7,8])\n",
    "b = np.array([1,2,3,4,5,6,7,8])\n",
    "c = np.concatenate((a,b))\n"
   ]
  },
  {
   "cell_type": "code",
   "execution_count": 30,
   "id": "a73afe69",
   "metadata": {},
   "outputs": [
    {
     "data": {
      "text/plain": [
       "array([1, 2, 3, 4, 5, 6, 7, 8, 1, 2, 3, 4, 5, 6, 7, 8])"
      ]
     },
     "execution_count": 30,
     "metadata": {},
     "output_type": "execute_result"
    }
   ],
   "source": [
    "a = np.array([1,2,3,4,5,6,7,8])\n",
    "b = np.array([1,2,3,4,5,6,7,8])\n",
    "c = np.concatenate((a,b))\n",
    "c"
   ]
  },
  {
   "cell_type": "code",
   "execution_count": null,
   "id": "569a2163",
   "metadata": {},
   "outputs": [],
   "source": [
    "# 2-D Arrays\n"
   ]
  },
  {
   "cell_type": "code",
   "execution_count": 34,
   "id": "1b0a1f3b",
   "metadata": {},
   "outputs": [],
   "source": [
    "uva= np.array([[1,2,3,4,5],[5,4,3,2,1]])\n",
    "jva= np.array([[6,7,8,9,10],[10,9,8,7,6]])"
   ]
  },
  {
   "cell_type": "code",
   "execution_count": 37,
   "id": "58729528",
   "metadata": {},
   "outputs": [
    {
     "data": {
      "text/plain": [
       "array([[ 1,  2,  3,  4,  5],\n",
       "       [ 5,  4,  3,  2,  1],\n",
       "       [ 6,  7,  8,  9, 10],\n",
       "       [10,  9,  8,  7,  6]])"
      ]
     },
     "execution_count": 37,
     "metadata": {},
     "output_type": "execute_result"
    }
   ],
   "source": [
    "lva = np.concatenate((uva,jva), axis=0)\n",
    "lva"
   ]
  },
  {
   "cell_type": "code",
   "execution_count": 38,
   "id": "1c5a1d01",
   "metadata": {},
   "outputs": [
    {
     "data": {
      "text/plain": [
       "array([[ 1,  2,  3,  4,  5,  6,  7,  8,  9, 10],\n",
       "       [ 5,  4,  3,  2,  1, 10,  9,  8,  7,  6]])"
      ]
     },
     "execution_count": 38,
     "metadata": {},
     "output_type": "execute_result"
    }
   ],
   "source": [
    "lva = np.concatenate((uva,jva), axis=1)\n",
    "lva"
   ]
  },
  {
   "cell_type": "code",
   "execution_count": 40,
   "id": "0b0e90de",
   "metadata": {},
   "outputs": [
    {
     "data": {
      "text/plain": [
       "array([[ 7,  9, 11, 13, 15],\n",
       "       [15, 13, 11,  9,  7]])"
      ]
     },
     "execution_count": 40,
     "metadata": {},
     "output_type": "execute_result"
    }
   ],
   "source": [
    "lva = uva + jva \n",
    "lva # value sums on the axis 1"
   ]
  },
  {
   "cell_type": "code",
   "execution_count": 41,
   "id": "5ec4cbfa",
   "metadata": {},
   "outputs": [
    {
     "data": {
      "text/plain": [
       "2"
      ]
     },
     "execution_count": 41,
     "metadata": {},
     "output_type": "execute_result"
    }
   ],
   "source": [
    "lva.ndim"
   ]
  },
  {
   "cell_type": "code",
   "execution_count": 42,
   "id": "61bdd507",
   "metadata": {},
   "outputs": [
    {
     "data": {
      "text/plain": [
       "array([[ 5,  6,  7],\n",
       "       [ 8,  9, 10],\n",
       "       [11, 12, 13]])"
      ]
     },
     "execution_count": 42,
     "metadata": {},
     "output_type": "execute_result"
    }
   ],
   "source": [
    "b= np.array([[5,6,7,],\n",
    "            [8,9,10],\n",
    "            [11,12,13]])\n",
    "b"
   ]
  },
  {
   "cell_type": "code",
   "execution_count": 43,
   "id": "2eb43772",
   "metadata": {},
   "outputs": [
    {
     "data": {
      "text/plain": [
       "2"
      ]
     },
     "execution_count": 43,
     "metadata": {},
     "output_type": "execute_result"
    }
   ],
   "source": [
    "b.ndim\n"
   ]
  },
  {
   "cell_type": "code",
   "execution_count": 44,
   "id": "afa4d895",
   "metadata": {},
   "outputs": [
    {
     "data": {
      "text/plain": [
       "(3, 3)"
      ]
     },
     "execution_count": 44,
     "metadata": {},
     "output_type": "execute_result"
    }
   ],
   "source": [
    "b.shape"
   ]
  },
  {
   "cell_type": "code",
   "execution_count": null,
   "id": "9fefc9b4",
   "metadata": {},
   "outputs": [],
   "source": [
    "# cheking shape farmula dim, lines ad numbers inside them\n"
   ]
  },
  {
   "cell_type": "code",
   "execution_count": 47,
   "id": "48caffeb",
   "metadata": {},
   "outputs": [
    {
     "data": {
      "text/plain": [
       "array([ 0,  1,  2,  3,  4,  5,  6,  7,  8,  9, 10, 11, 12, 13, 14, 15, 16,\n",
       "       17, 18, 19, 20, 21, 22, 23, 24, 25, 26, 27, 28, 29, 30, 31, 32, 33,\n",
       "       34, 35, 36, 37, 38, 39, 40, 41, 42, 43, 44, 45, 46, 47])"
      ]
     },
     "execution_count": 47,
     "metadata": {},
     "output_type": "execute_result"
    }
   ],
   "source": [
    "# reshaping\n",
    "rs = np.arange(48)\n",
    "rs\n"
   ]
  },
  {
   "cell_type": "code",
   "execution_count": 48,
   "id": "e546285f",
   "metadata": {},
   "outputs": [
    {
     "data": {
      "text/plain": [
       "array([[ 0,  1,  2,  3],\n",
       "       [ 4,  5,  6,  7],\n",
       "       [ 8,  9, 10, 11],\n",
       "       [12, 13, 14, 15],\n",
       "       [16, 17, 18, 19],\n",
       "       [20, 21, 22, 23],\n",
       "       [24, 25, 26, 27],\n",
       "       [28, 29, 30, 31],\n",
       "       [32, 33, 34, 35],\n",
       "       [36, 37, 38, 39],\n",
       "       [40, 41, 42, 43],\n",
       "       [44, 45, 46, 47]])"
      ]
     },
     "execution_count": 48,
     "metadata": {},
     "output_type": "execute_result"
    }
   ],
   "source": [
    "rs.reshape(12,4)"
   ]
  },
  {
   "cell_type": "code",
   "execution_count": 51,
   "id": "459b2607",
   "metadata": {},
   "outputs": [
    {
     "data": {
      "text/plain": [
       "array([1, 2, 3, 4, 5, 6, 7, 8, 9])"
      ]
     },
     "execution_count": 51,
     "metadata": {},
     "output_type": "execute_result"
    }
   ],
   "source": [
    "# how to convert 1d array into 2d\n",
    "td = np.array([1,2,3,4,5,6,7,8,9])\n",
    "td\n"
   ]
  },
  {
   "cell_type": "code",
   "execution_count": 53,
   "id": "08d8d48b",
   "metadata": {},
   "outputs": [
    {
     "data": {
      "text/plain": [
       "array([[1, 2, 3, 4, 5, 6, 7, 8, 9]])"
      ]
     },
     "execution_count": 53,
     "metadata": {},
     "output_type": "execute_result"
    }
   ],
   "source": [
    "# rowwise conversion\n",
    "tu = td[np.newaxis, :]\n",
    "tu"
   ]
  },
  {
   "cell_type": "code",
   "execution_count": 54,
   "id": "4d87bd29",
   "metadata": {},
   "outputs": [
    {
     "data": {
      "text/plain": [
       "(1, 9)"
      ]
     },
     "execution_count": 54,
     "metadata": {},
     "output_type": "execute_result"
    }
   ],
   "source": [
    "tu.shape"
   ]
  },
  {
   "cell_type": "code",
   "execution_count": 55,
   "id": "9fddf41c",
   "metadata": {},
   "outputs": [
    {
     "data": {
      "text/plain": [
       "array([[1],\n",
       "       [2],\n",
       "       [3],\n",
       "       [4],\n",
       "       [5],\n",
       "       [6],\n",
       "       [7],\n",
       "       [8],\n",
       "       [9]])"
      ]
     },
     "execution_count": 55,
     "metadata": {},
     "output_type": "execute_result"
    }
   ],
   "source": [
    "# columnwise conversion\n",
    "tu = td[:, np.newaxis]\n",
    "tu"
   ]
  },
  {
   "cell_type": "code",
   "execution_count": null,
   "id": "3500c84c",
   "metadata": {},
   "outputs": [],
   "source": []
  }
 ],
 "metadata": {
  "kernelspec": {
   "display_name": "Python 3 (ipykernel)",
   "language": "python",
   "name": "python3"
  },
  "language_info": {
   "codemirror_mode": {
    "name": "ipython",
    "version": 3
   },
   "file_extension": ".py",
   "mimetype": "text/x-python",
   "name": "python",
   "nbconvert_exporter": "python",
   "pygments_lexer": "ipython3",
   "version": "3.9.7"
  }
 },
 "nbformat": 4,
 "nbformat_minor": 5
}
