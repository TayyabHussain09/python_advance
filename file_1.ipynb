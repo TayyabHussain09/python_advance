{
 "cells": [
  {
   "cell_type": "code",
   "execution_count": null,
   "id": "1405a527",
   "metadata": {},
   "outputs": [],
   "source": [
    "# first programme by ammar"
   ]
  },
  {
   "cell_type": "code",
   "execution_count": 7,
   "id": "7436dd50",
   "metadata": {},
   "outputs": [
    {
     "name": "stdout",
     "output_type": "stream",
     "text": [
      "hey tayyab hussain welcome to my jungle bro\n",
      "HEY TAYYAB HUSSAIN WELCOME TO MY JUNGLE BRO\n",
      "HEY TAYYAB HUSSAIN WELCOME TO MY JUNGLE BRO\n",
      "what is your fav animal?markhor\n",
      "markhor\n",
      "markhor\n",
      "what is your fav buildingnew york times\n",
      "new york times\n",
      "Burg Al Khalifa\n",
      "what is your fav colorred\n",
      "red\n",
      "black\n",
      "what the fuck you want to print\n",
      "The black markhor ran up the Burg Al Khalifa\n",
      "what is your first name? tayyab\n",
      "what is your last name?hussain\n",
      " tayyab\n",
      "hussain\n",
      "Hello Tayyab hussain\n",
      "what is your nametayyab\n",
      "tayyab\n",
      "hello, tayyab\n",
      "9\n",
      "2\n",
      "Vvannoto genoq\n",
      "ghanta genoq\n"
     ]
    }
   ],
   "source": [
    "from ctypes.wintypes import MSG\n",
    "#getting the messages detail\n",
    "\n",
    "msg='hey tayyab hussain welcome to my jungle bro'\n",
    "print(msg.lower())\n",
    "print(msg.upper())\n",
    "print(msg.swapcase())\n",
    "\n",
    "#getting some mixed input details\n",
    "\n",
    "animal = input(\"what is your fav animal?\")\n",
    "print(animal)\n",
    "animal=\"markhor\"\n",
    "print(animal)\n",
    "building = input(\"what is your fav building\")\n",
    "print(building)\n",
    "building=\"Burg Al Khalifa\"\n",
    "print(building)\n",
    "color = input(\"what is your fav color\")\n",
    "print(color)\n",
    "color = \"black\"\n",
    "print(color)\n",
    "print(\"what the fuck you want to print\")\n",
    "print(\"The \"+color+\" \"+animal+\" ran up the \"+building)\n",
    "\n",
    "#getting mixed input names etc\n",
    "\n",
    "firstName = input(\"what is your first name?\")\n",
    "lastName = input(\"what is your last name?\")\n",
    "print(firstName)\n",
    "print(lastName)\n",
    "firstName=\"tayyab\"\n",
    "lastName=\"hussain\"\n",
    "print(\"Hello \" + \"Tayyab\" \" \" + \"hussain\")\n",
    "name=input(\"what is your name\")\n",
    "print(name)\n",
    "print('hello, ' + name)\n",
    "\n",
    "#experiment with the finding tricks of python.\n",
    "msg = \"vvannoto genoq\"\n",
    "print(msg.find('genoq'))\n",
    "print(msg.count('v'))\n",
    "print(msg.capitalize())\n",
    "print(msg.replace('vvannoto','ghanta'))\n"
   ]
  },
  {
   "cell_type": "code",
   "execution_count": null,
   "id": "48d25f81",
   "metadata": {},
   "outputs": [],
   "source": [
    "#02_operators.py"
   ]
  },
  {
   "cell_type": "code",
   "execution_count": 8,
   "id": "023c3ae4",
   "metadata": {},
   "outputs": [
    {
     "name": "stdout",
     "output_type": "stream",
     "text": [
      "41.0\n"
     ]
    }
   ],
   "source": [
    "#print(5+4)\n",
    "#print(6/2)\n",
    "#print(13%2)\n",
    "\n",
    "print(3**3/2*4/2+8+6)\n",
    "#pemdas\n",
    "# parenthesis exponents multyply divide addition substraction\n",
    "# left to right sequence for m d a s.\n",
    "\n"
   ]
  },
  {
   "cell_type": "code",
   "execution_count": null,
   "id": "6c294d2d",
   "metadata": {},
   "outputs": [],
   "source": [
    "#03_strings.py"
   ]
  },
  {
   "cell_type": "code",
   "execution_count": 9,
   "id": "f01a2847",
   "metadata": {},
   "outputs": [
    {
     "name": "stdout",
     "output_type": "stream",
     "text": [
      "test for the single qote\n",
      "test for the triple quotes\n",
      "               test for the triple quote\n"
     ]
    }
   ],
   "source": [
    "#print(\"hello world\")\n",
    "#print(\"we are learning with the amir baba\")\n",
    "print('test for the single qote')\n",
    "print(\"test for the triple quotes\")\n",
    "print('''               test for the triple quote''')\n",
    "#strings clear"
   ]
  },
  {
   "cell_type": "code",
   "execution_count": null,
   "id": "1ce70c59",
   "metadata": {},
   "outputs": [],
   "source": [
    "#04 comments"
   ]
  },
  {
   "cell_type": "code",
   "execution_count": null,
   "id": "7436ac15",
   "metadata": {},
   "outputs": [],
   "source": [
    "#for example use hashtag like this before the start of any paragrafh"
   ]
  },
  {
   "cell_type": "code",
   "execution_count": null,
   "id": "31636856",
   "metadata": {},
   "outputs": [],
   "source": [
    "#05_variables.py"
   ]
  },
  {
   "cell_type": "code",
   "execution_count": 11,
   "id": "a8aa745a",
   "metadata": {},
   "outputs": [
    {
     "name": "stdout",
     "output_type": "stream",
     "text": [
      "965\n",
      "10\n",
      "25\n",
      "<class 'int'>\n",
      "<class 'str'>\n",
      "oranges 5\n",
      "<class 'str'>\n"
     ]
    }
   ],
   "source": [
    "x=965 # nummeric variable any of type\n",
    "print(x)\n",
    "y=(\"kcavavmawviuahgw vawgviuawgv vkawgvohawvgawov wvkjawvouawgv ie\") # this is called the string variable\n",
    "x=10 # as in the first line of code i used the value 965 but now 10 i will print the 10 it is the order od python \n",
    "print(x)\n",
    "x=x+15\n",
    "print(x) # here it will take the value of last two combination i.e 10 + 15 it has taken.\n",
    "\n",
    "#types/ class of variables\n",
    "type(x)\n",
    "print(type(x))\n",
    "print(type(y))\n",
    "\n",
    "#print type class \n",
    "#rules to assign the variable\n",
    "# 1- the variable should contain letters, numers, or underscores.\n",
    "# 2- do not start woth the numbers\n",
    "# 3- spaces are not allowed in the variables moreover python is the space sensitive language\n",
    "# 4- do not use keywords which are used in python functions such as (break, mean, medium, test ,and, as , assert , break, class, continue, def, del, elif, else, except, false, finally, for, from, global, if etc)\n",
    "# 5- variable name should be shourt and descriptive\n",
    "# 6- case sensitivity about(uppercase and lowercase letters) lowercase are easy to use\n",
    "\n",
    "fruit_basket = \"oranges 5\"\n",
    "print(fruit_basket)\n",
    "print(type(fruit_basket))"
   ]
  },
  {
   "cell_type": "code",
   "execution_count": null,
   "id": "b9cc02c4",
   "metadata": {},
   "outputs": [],
   "source": [
    "#06_input_variables.py"
   ]
  },
  {
   "cell_type": "code",
   "execution_count": 12,
   "id": "6322215f",
   "metadata": {},
   "outputs": [
    {
     "name": "stdout",
     "output_type": "stream",
     "text": [
      "mangoes of tayyab\n",
      "what is your favourite fruit ornage\n",
      "ornage\n",
      "what is your name? tayyab\n",
      "hello! tayyab\n",
      "what is your name? tayyab\n",
      "hello world tayyab\n",
      "what is your name? tayab\n",
      "how old are you56\n",
      "hello tayab ohh you are still young man!\n"
     ]
    }
   ],
   "source": [
    "fruit_basket=\"mangoes\"\n",
    "print(fruit_basket +' of tayyab')\n",
    "\n",
    "#inputfunction\n",
    "fruit_basket=input(\"what is your favourite fruit \")\n",
    "print(fruit_basket)\n",
    "\n",
    "#input function of second stage\n",
    "name=input('what is your name? ')\n",
    "greetings=\"hello!\"\n",
    "print(greetings, name)\n",
    "#another way of stage 2 function\n",
    "name=input(\"what is your name? \")\n",
    "print(\"hello world\", name)\n",
    "#another way of stage 2\n",
    "name=input(\"what is your name? \")\n",
    "age=input(\"how old are you\")\n",
    "greeting=\"hello\"\n",
    "print(greeting, name, \"ohh you are still young man!\")"
   ]
  },
  {
   "cell_type": "code",
   "execution_count": null,
   "id": "c10b3e2f",
   "metadata": {},
   "outputs": [],
   "source": [
    "#07_conditional_logics.py"
   ]
  },
  {
   "cell_type": "code",
   "execution_count": 16,
   "id": "4dd1d5ae",
   "metadata": {},
   "outputs": [
    {
     "name": "stdout",
     "output_type": "stream",
     "text": [
      "True\n",
      "False\n",
      "False\n",
      "False\n",
      "True\n",
      "True\n",
      "how old is the student6\n",
      "True\n"
     ]
    }
   ],
   "source": [
    "# logical operators are either true or false or yes or no or 0 or 1.\n",
    "#lets see\n",
    "#not equil to operator is !=\n",
    "#equal to operator is ==\n",
    "#less tham is < , greater than operator is >,\n",
    "#less than and equal to operator is <=\n",
    "#greater than and equal to operator is >=\n",
    "\n",
    "\n",
    "\n",
    "\n",
    "#is 16 equil to the 16\n",
    "print(16==16)\n",
    "print(16!=16)\n",
    "print(16<16)\n",
    "print(16>16)\n",
    "print(16<=16)\n",
    "\n",
    "#application of logical opeerations\n",
    "usama_age=5\n",
    "age_at_school=6\n",
    "print(usama_age<age_at_school) #simply this will tell true and false according to requirements as used in the netflix about age related facts\n",
    "\n",
    "#input function and logicals\n",
    "\n",
    "age_at_school=6\n",
    "student_age=input(\"how old is the student\") #here input function\n",
    "student_age=int(student_age)   #here it was necessary to change the age in the integar from string\n",
    "print(student_age==age_at_school)  #here logical operator\n",
    "\n",
    "\n",
    "\n",
    "#done\n",
    "\n",
    "\n",
    "\n"
   ]
  },
  {
   "cell_type": "code",
   "execution_count": null,
   "id": "c03efb49",
   "metadata": {},
   "outputs": [],
   "source": [
    "#08_type_conversion"
   ]
  },
  {
   "cell_type": "code",
   "execution_count": 17,
   "id": "4e928a06",
   "metadata": {},
   "outputs": [
    {
     "name": "stdout",
     "output_type": "stream",
     "text": [
      "20.2 type of x is: <class 'float'>\n",
      "what is your age? 56\n",
      "56 <class 'int'>\n"
     ]
    }
   ],
   "source": [
    "import string\n",
    "from tkinter import Y\n",
    "\n",
    "\n",
    "x=10\n",
    "y=10.2\n",
    "z=\"hello ! tayyab\"\n",
    "#below is called implicit type conversion\n",
    "x=x+y\n",
    "print(x,\"type of x is:\",type(x))\n",
    "\n",
    "#explicit type conversion\n",
    "age=input(\"what is your age? \")\n",
    "#age=int(age)\n",
    "print(age, type(int(age)))  #see you can write multiple functions like this and can change the class type within the line\n"
   ]
  },
  {
   "cell_type": "code",
   "execution_count": null,
   "id": "ac70b252",
   "metadata": {},
   "outputs": [],
   "source": [
    "#09_if_else_elif.py"
   ]
  },
  {
   "cell_type": "code",
   "execution_count": 18,
   "id": "aebb508d",
   "metadata": {},
   "outputs": [
    {
     "name": "stdout",
     "output_type": "stream",
     "text": [
      "then you should keep this pen also with you\n"
     ]
    }
   ],
   "source": [
    "from opcode import HAVE_ARGUMENT\n",
    "\n",
    "\n",
    "required_item=\"brown_pen\"\n",
    "i_have=\"yellow_pen\"\n",
    "\n",
    "\n",
    "#can i write weith the pencil\n",
    "\n",
    "if i_have==required_item:\n",
    "  print(\"i can write with then\")\n",
    "elif i_have == required_item:\n",
    "  print(\"you should buy a new brown pen\")\n",
    "elif i_have == \"yellow_pen\":\n",
    "  print(\"then you should keep this pen also with you\")\n",
    "elif i_have!=required_item:\n",
    "  print(\"its okay\")\n",
    "elif i_have=='yellow_pen':\n",
    "  print(\"write right now but buy new pen later plz\")  \n",
    "else:\n",
    "  print(\"i cant write then\")\n",
    "\n",
    "\n",
    "\n",
    "#also done with this alhamdulillah!"
   ]
  },
  {
   "cell_type": "code",
   "execution_count": null,
   "id": "601c46d3",
   "metadata": {},
   "outputs": [],
   "source": [
    "#10_functions.py"
   ]
  },
  {
   "cell_type": "code",
   "execution_count": 19,
   "id": "f697d5ab",
   "metadata": {},
   "outputs": [
    {
     "name": "stdout",
     "output_type": "stream",
     "text": [
      "i am tayyab hussai bjawa\n",
      "i am tayyab hussain bjawa\n",
      "i am tayyab hussain bjawa\n",
      "i am micheal chuchu hussy\n",
      "i am micheal chuchu hussy\n",
      "i am micheal chuchu hussy\n",
      "ali let him play yet\n",
      "corolla mercedes\n",
      "50010000896578578585555555555555555555555665554\n",
      "38\n"
     ]
    }
   ],
   "source": [
    "# define function to check spell and chenge code of multiple line with sngle line editing.\n",
    "#first way\n",
    "\n",
    "\n",
    "def print_tayyab():\n",
    "    print(\"i am tayyab hussai bjawa\")\n",
    "    print(\"i am tayyab hussain bjawa\")\n",
    "    print(\"i am tayyab hussain bjawa\")\n",
    "    \n",
    "print_tayyab()\n",
    "\n",
    "#2\n",
    "def print_tayyab(text):\n",
    "    print(text)\n",
    "    print(text)\n",
    "    print(text)\n",
    "\n",
    "print_tayyab(\"i am micheal chuchu hussy\")\n",
    "\n",
    "#defining a function by if else and elif statement\n",
    "\n",
    "def school_calculator(age):\n",
    "    if age==4:\n",
    "      print(\"ali can go to school\")\n",
    "    elif age>4:\n",
    "      print(\"ali is necessary to send to the school\")\n",
    "    else:\n",
    "      print(\"ali let him play yet\")\n",
    "      \n",
    "school_calculator(3)\n",
    "\n",
    "# defining a function of future prediction\n",
    "\n",
    "def recent_car(corolla):\n",
    "    future_car=corolla+\" mercedes\"\n",
    "    return future_car\n",
    "    print(future_car)\n",
    "future_predicted_car=recent_car(\"corolla\")\n",
    "print(future_predicted_car)\n",
    "\n",
    "#also\n",
    "\n",
    "recent_cash_amount=10000895578578585555555555555555555555555555\n",
    "cash_amount_of_5_years_later=110000\n",
    "future_cash_amount=recent_cash_amount+cash_amount_of_5_years_later\n",
    "future_predictions=future_cash_amount+50000000000999999999999999999999999999999999999\n",
    "print(future_predictions)\n",
    "\n",
    "#definig the future age\n",
    "\n",
    "def recent_age(age):\n",
    "    upcoming_age=age+20\n",
    "    return upcoming_age\n",
    "    print(upcoming_age)\n",
    "  \n",
    "future_age=recent_age(18)\n",
    "print(future_age)\n",
    "\n",
    "#Alhamdulillah done also with this.\n",
    "    \n"
   ]
  },
  {
   "cell_type": "code",
   "execution_count": null,
   "id": "918d7c95",
   "metadata": {},
   "outputs": [],
   "source": [
    "#11_loops.py"
   ]
  },
  {
   "cell_type": "code",
   "execution_count": 21,
   "id": "e1979e88",
   "metadata": {},
   "outputs": [
    {
     "name": "stdout",
     "output_type": "stream",
     "text": [
      "0\n",
      "1\n",
      "2\n",
      "3\n",
      "4\n",
      "5\n",
      "6\n",
      "7\n",
      "8\n",
      "9\n",
      "MON\n",
      "Tue\n",
      "Wed\n",
      "Thu\n",
      "Fri\n",
      "Sat\n",
      "Sun\n"
     ]
    }
   ],
   "source": [
    "# types are while and for loops\n",
    "#while loops\n",
    "\n",
    "\n",
    "x=0\n",
    "while (x<5):\n",
    "  print(x)\n",
    "  x=x+1\n",
    "\n",
    "#for loop\n",
    "\n",
    "for k in range(5,10):\n",
    "    print(k)\n",
    "    \n",
    "# array(means dataset)\n",
    "days = [\"MON\", \"Tue\", \"Wed\", \"Thu\", \"Fri\", \"Sat\", \"Sun\",]\n",
    "\n",
    "for t in days:\n",
    "  #if (t==\"Thu\"):break   #it will stop the onwarding values\n",
    "  #if (t==\"Fri\"):continue      #it will skip the friday\n",
    "  print(t)\n",
    "  \n",
    "  "
   ]
  },
  {
   "cell_type": "code",
   "execution_count": null,
   "id": "fb8f842c",
   "metadata": {},
   "outputs": [],
   "source": [
    "#12_import_libraries.py"
   ]
  },
  {
   "cell_type": "code",
   "execution_count": 1,
   "id": "cdec3ef3",
   "metadata": {},
   "outputs": [
    {
     "name": "stdout",
     "output_type": "stream",
     "text": [
      "the value of pi is  3.141592653589793\n",
      "300\n"
     ]
    }
   ],
   "source": [
    "# for example if you want to print the symbol of math such as pi then see\n",
    "\n",
    "import math\n",
    "print('the value of pi is ', math.pi)\n",
    "\n",
    "\n",
    "import statistics\n",
    "\n",
    "x=[150, 250, 350, 450]\n",
    "\n",
    "print(statistics.mean(x))\n",
    "\n",
    "\n",
    "\n",
    "# will continue later numpy pandas are very important"
   ]
  },
  {
   "cell_type": "code",
   "execution_count": null,
   "id": "5fb8ffb9",
   "metadata": {},
   "outputs": [],
   "source": [
    "#troubleshooting.py"
   ]
  },
  {
   "cell_type": "code",
   "execution_count": null,
   "id": "6229df7e",
   "metadata": {},
   "outputs": [],
   "source": [
    "#work with focus dont let sysntax and soecially sementic error happen"
   ]
  },
  {
   "cell_type": "code",
   "execution_count": null,
   "id": "97528149",
   "metadata": {},
   "outputs": [],
   "source": [
    "#practice"
   ]
  },
  {
   "cell_type": "code",
   "execution_count": 23,
   "id": "93c26314",
   "metadata": {},
   "outputs": [
    {
     "ename": "ValueError",
     "evalue": "Invalid format string",
     "output_type": "error",
     "traceback": [
      "\u001b[1;31m---------------------------------------------------------------------------\u001b[0m",
      "\u001b[1;31mValueError\u001b[0m                                Traceback (most recent call last)",
      "\u001b[1;32m~\\AppData\\Local\\Temp/ipykernel_26168/1912453795.py\u001b[0m in \u001b[0;36m<module>\u001b[1;34m\u001b[0m\n\u001b[0;32m     14\u001b[0m \u001b[0mlabel\u001b[0m \u001b[1;33m=\u001b[0m \u001b[0mLabel\u001b[0m\u001b[1;33m(\u001b[0m\u001b[0mroot\u001b[0m\u001b[1;33m,\u001b[0m \u001b[0mfont\u001b[0m\u001b[1;33m=\u001b[0m\u001b[1;33m(\u001b[0m\u001b[1;34m\"DS-DIGI.TF\"\u001b[0m\u001b[1;33m,\u001b[0m \u001b[1;36m80\u001b[0m\u001b[1;33m)\u001b[0m\u001b[1;33m,\u001b[0m \u001b[0mbackground\u001b[0m \u001b[1;33m=\u001b[0m \u001b[1;34m\"black\"\u001b[0m\u001b[1;33m,\u001b[0m \u001b[0mforeground\u001b[0m \u001b[1;33m=\u001b[0m \u001b[1;34m\"cyan\"\u001b[0m\u001b[1;33m)\u001b[0m\u001b[1;33m\u001b[0m\u001b[1;33m\u001b[0m\u001b[0m\n\u001b[0;32m     15\u001b[0m \u001b[0mlabel\u001b[0m\u001b[1;33m.\u001b[0m\u001b[0mpack\u001b[0m\u001b[1;33m(\u001b[0m\u001b[0manchor\u001b[0m\u001b[1;33m=\u001b[0m\u001b[1;34m'center'\u001b[0m\u001b[1;33m)\u001b[0m\u001b[1;33m\u001b[0m\u001b[1;33m\u001b[0m\u001b[0m\n\u001b[1;32m---> 16\u001b[1;33m \u001b[0mtime\u001b[0m\u001b[1;33m(\u001b[0m\u001b[1;33m)\u001b[0m\u001b[1;33m\u001b[0m\u001b[1;33m\u001b[0m\u001b[0m\n\u001b[0m\u001b[0;32m     17\u001b[0m \u001b[1;33m\u001b[0m\u001b[0m\n\u001b[0;32m     18\u001b[0m \u001b[0mmainloop\u001b[0m\u001b[1;33m(\u001b[0m\u001b[1;33m)\u001b[0m\u001b[1;33m\u001b[0m\u001b[1;33m\u001b[0m\u001b[0m\n",
      "\u001b[1;32m~\\AppData\\Local\\Temp/ipykernel_26168/1912453795.py\u001b[0m in \u001b[0;36mtime\u001b[1;34m()\u001b[0m\n\u001b[0;32m      8\u001b[0m \u001b[1;33m\u001b[0m\u001b[0m\n\u001b[0;32m      9\u001b[0m \u001b[1;32mdef\u001b[0m \u001b[0mtime\u001b[0m\u001b[1;33m(\u001b[0m\u001b[1;33m)\u001b[0m\u001b[1;33m:\u001b[0m\u001b[1;33m\u001b[0m\u001b[1;33m\u001b[0m\u001b[0m\n\u001b[1;32m---> 10\u001b[1;33m   \u001b[0mstring\u001b[0m \u001b[1;33m=\u001b[0m \u001b[0mstrftime\u001b[0m\u001b[1;33m(\u001b[0m\u001b[1;34m'%H:%M:%S:%P'\u001b[0m\u001b[1;33m)\u001b[0m\u001b[1;33m\u001b[0m\u001b[1;33m\u001b[0m\u001b[0m\n\u001b[0m\u001b[0;32m     11\u001b[0m   \u001b[0mlabel\u001b[0m\u001b[1;33m.\u001b[0m\u001b[0mconfig\u001b[0m\u001b[1;33m(\u001b[0m\u001b[0mtext\u001b[0m\u001b[1;33m=\u001b[0m\u001b[0mstring\u001b[0m\u001b[1;33m)\u001b[0m\u001b[1;33m\u001b[0m\u001b[1;33m\u001b[0m\u001b[0m\n\u001b[0;32m     12\u001b[0m   \u001b[0mlabel\u001b[0m\u001b[1;33m.\u001b[0m\u001b[0mafter\u001b[0m\u001b[1;33m(\u001b[0m\u001b[1;36m1000\u001b[0m\u001b[1;33m,\u001b[0m \u001b[0mtime\u001b[0m\u001b[1;33m)\u001b[0m\u001b[1;33m\u001b[0m\u001b[1;33m\u001b[0m\u001b[0m\n",
      "\u001b[1;31mValueError\u001b[0m: Invalid format string"
     ]
    }
   ],
   "source": [
    "from tkinter import *\n",
    "from tkinter.ttk import *\n",
    "\n",
    "from time import strftime\n",
    "\n",
    "root = Tk()\n",
    "root.title(\"clock\")\n",
    "\n",
    "def time():\n",
    "  string = strftime('%H:%M:%S:%P')\n",
    "  label.config(text=string)\n",
    "  label.after(1000, time)\n",
    "\n",
    "label = Label(root, font=(\"DS-DIGI.TF\", 80), background = \"black\", foreground = \"cyan\")\n",
    "label.pack(anchor='center')\n",
    "time()\n",
    "\n",
    "mainloop()"
   ]
  },
  {
   "cell_type": "code",
   "execution_count": null,
   "id": "eca793dd",
   "metadata": {},
   "outputs": [],
   "source": []
  }
 ],
 "metadata": {
  "kernelspec": {
   "display_name": "Python 3 (ipykernel)",
   "language": "python",
   "name": "python3"
  },
  "language_info": {
   "codemirror_mode": {
    "name": "ipython",
    "version": 3
   },
   "file_extension": ".py",
   "mimetype": "text/x-python",
   "name": "python",
   "nbconvert_exporter": "python",
   "pygments_lexer": "ipython3",
   "version": "3.9.7"
  }
 },
 "nbformat": 4,
 "nbformat_minor": 5
}
