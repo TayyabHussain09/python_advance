{
 "cells": [
  {
   "cell_type": "code",
   "execution_count": 3,
   "metadata": {},
   "outputs": [
    {
     "name": "stdout",
     "output_type": "stream",
     "text": [
      "tayyab\n"
     ]
    }
   ],
   "source": [
    "print(\"tayyab\")"
   ]
  },
  {
   "cell_type": "code",
   "execution_count": 5,
   "metadata": {},
   "outputs": [
    {
     "name": "stdout",
     "output_type": "stream",
     "text": [
      "Computer Turn: Snake(s), Water(W), Gun(G)\n",
      "Comp Chose W\n",
      "You Chose g\n",
      "Tie\n"
     ]
    }
   ],
   "source": [
    "import random\n",
    "def gamewin(comp, you):\n",
    "    if comp == you:\n",
    "        return None\n",
    "    elif comp == \"S\":\n",
    "        if you == \"W\":\n",
    "            return False\n",
    "        elif you == \"G\":\n",
    "            return True\n",
    "    elif comp == \"W\":\n",
    "        if you == \"G\":\n",
    "            return False\n",
    "        elif you == \"S\":\n",
    "            return True\n",
    "    elif comp == \"G\":\n",
    "        if you == \"W\":\n",
    "            return False\n",
    "        elif you == \"S\":\n",
    "            return True\n",
    "\n",
    "\n",
    "print(\"Computer Turn: Snake(s), Water(W), Gun(G)\")\n",
    "randno = random.randint(1, 3)\n",
    "\n",
    "if randno == 1:\n",
    "    comp = 'S'\n",
    "elif randno == 2:\n",
    "    comp = \"W\"\n",
    "elif randno == 3:\n",
    "    comp = \"G\"\n",
    "else:\n",
    "    print(\"Invalid Input\")\n",
    "\n",
    "you = input(\"Your Turn: Snake(s), Water(W), Gun(G)\")\n",
    "a = gamewin(comp,you)\n",
    "\n",
    "print(f\"Comp Chose {comp}\")\n",
    "print(f\"You Chose {you}\")\n",
    "\n",
    "if a == None:\n",
    "    print(\"Tie\")\n",
    "elif a == True:\n",
    "    print(\"You Win\")\n",
    "\n",
    "elif a == False:\n",
    "    print(\"You Lose\")"
   ]
  },
  {
   "cell_type": "code",
   "execution_count": 6,
   "metadata": {},
   "outputs": [
    {
     "data": {
      "text/plain": [
       "array([1, 2, 3, 4, 5, 6, 7, 8, 9])"
      ]
     },
     "execution_count": 6,
     "metadata": {},
     "output_type": "execute_result"
    }
   ],
   "source": [
    "import numpy as np\n",
    "x = np.array([1,2,3,4,5,6,7,8,9])\n",
    "x"
   ]
  },
  {
   "cell_type": "code",
   "execution_count": 12,
   "metadata": {},
   "outputs": [
    {
     "name": "stdout",
     "output_type": "stream",
     "text": [
      "Using matplotlib backend: TkAgg\n",
      "%pylab is deprecated, use %matplotlib inline and import the required libraries.\n",
      "Populating the interactive namespace from numpy and matplotlib\n",
      "0    Colombia\n",
      "1      Turkey\n",
      "2         USA\n",
      "3     Germany\n",
      "4       Chile\n",
      "Name: country, dtype: object\n",
      "\n",
      " There are  5 countries in this series.\n",
      "0    0.469112\n",
      "1   -0.282863\n",
      "2   -1.509059\n",
      "3   -1.135632\n",
      "4    1.212112\n",
      "Name: noise, dtype: float64\n",
      "\n",
      " The average in this sample is  -0.24926597871826645\n",
      "             noise  noise_sq noise and its square  name length  South America\n",
      "country                                                                      \n",
      "Colombia  0.469112  0.220066             0.689179            8              1\n",
      "Turkey   -0.282863  0.080012            -0.202852            6              0\n",
      "USA      -1.509059  2.277258             0.768199            3              0\n",
      "Germany  -1.135632  1.289661             0.154029            7              0\n",
      "Chile     1.212112  1.469216             2.681328            5              1\n"
     ]
    },
    {
     "ename": "ImportError",
     "evalue": "Missing optional dependency 'xlrd'. Install xlrd >= 1.0.0 for Excel support Use pip or conda to install xlrd.",
     "output_type": "error",
     "traceback": [
      "\u001b[1;31m---------------------------------------------------------------------------\u001b[0m",
      "\u001b[1;31mModuleNotFoundError\u001b[0m                       Traceback (most recent call last)",
      "File \u001b[1;32m~\\OneDrive\\Desktop\\lib\\site-packages\\pandas\\compat\\_optional.py:126\u001b[0m, in \u001b[0;36mimport_optional_dependency\u001b[1;34m(name, extra, errors, min_version)\u001b[0m\n\u001b[0;32m    <a href='file:///c%3A/Users/Tayyab/OneDrive/Desktop/lib/site-packages/pandas/compat/_optional.py?line=124'>125</a>\u001b[0m \u001b[39mtry\u001b[39;00m:\n\u001b[1;32m--> <a href='file:///c%3A/Users/Tayyab/OneDrive/Desktop/lib/site-packages/pandas/compat/_optional.py?line=125'>126</a>\u001b[0m     module \u001b[39m=\u001b[39m importlib\u001b[39m.\u001b[39;49mimport_module(name)\n\u001b[0;32m    <a href='file:///c%3A/Users/Tayyab/OneDrive/Desktop/lib/site-packages/pandas/compat/_optional.py?line=126'>127</a>\u001b[0m \u001b[39mexcept\u001b[39;00m \u001b[39mImportError\u001b[39;00m:\n",
      "File \u001b[1;32m~\\OneDrive\\Desktop\\lib\\importlib\\__init__.py:126\u001b[0m, in \u001b[0;36mimport_module\u001b[1;34m(name, package)\u001b[0m\n\u001b[0;32m    <a href='file:///c%3A/Users/Tayyab/OneDrive/Desktop/lib/importlib/__init__.py?line=124'>125</a>\u001b[0m         level \u001b[39m+\u001b[39m\u001b[39m=\u001b[39m \u001b[39m1\u001b[39m\n\u001b[1;32m--> <a href='file:///c%3A/Users/Tayyab/OneDrive/Desktop/lib/importlib/__init__.py?line=125'>126</a>\u001b[0m \u001b[39mreturn\u001b[39;00m _bootstrap\u001b[39m.\u001b[39;49m_gcd_import(name[level:], package, level)\n",
      "File \u001b[1;32m<frozen importlib._bootstrap>:1050\u001b[0m, in \u001b[0;36m_gcd_import\u001b[1;34m(name, package, level)\u001b[0m\n",
      "File \u001b[1;32m<frozen importlib._bootstrap>:1027\u001b[0m, in \u001b[0;36m_find_and_load\u001b[1;34m(name, import_)\u001b[0m\n",
      "File \u001b[1;32m<frozen importlib._bootstrap>:1004\u001b[0m, in \u001b[0;36m_find_and_load_unlocked\u001b[1;34m(name, import_)\u001b[0m\n",
      "\u001b[1;31mModuleNotFoundError\u001b[0m: No module named 'xlrd'",
      "\nDuring handling of the above exception, another exception occurred:\n",
      "\u001b[1;31mImportError\u001b[0m                               Traceback (most recent call last)",
      "\u001b[1;32mc:\\Users\\Tayyab\\OneDrive\\Desktop\\python with AAMMAR BABA\\test_on_vscode.ipynb Cell 4'\u001b[0m in \u001b[0;36m<cell line: 58>\u001b[1;34m()\u001b[0m\n\u001b[0;32m     <a href='vscode-notebook-cell:/c%3A/Users/Tayyab/OneDrive/Desktop/python%20with%20AAMMAR%20BABA/test_on_vscode.ipynb#ch0000016?line=55'>56</a>\u001b[0m     dataurl \u001b[39m=\u001b[39m \u001b[39m\"\u001b[39m\u001b[39mhttp://www.ggdc.net/maddison/Historical_Statistics/horizontal-file_02-2010.xls\u001b[39m\u001b[39m\"\u001b[39m\n\u001b[0;32m     <a href='vscode-notebook-cell:/c%3A/Users/Tayyab/OneDrive/Desktop/python%20with%20AAMMAR%20BABA/test_on_vscode.ipynb#ch0000016?line=56'>57</a>\u001b[0m     urllib\u001b[39m.\u001b[39mrequest\u001b[39m.\u001b[39murlretrieve(dataurl, pathout \u001b[39m+\u001b[39m \u001b[39m'\u001b[39m\u001b[39mMaddison_original.xls\u001b[39m\u001b[39m'\u001b[39m)\n\u001b[1;32m---> <a href='vscode-notebook-cell:/c%3A/Users/Tayyab/OneDrive/Desktop/python%20with%20AAMMAR%20BABA/test_on_vscode.ipynb#ch0000016?line=57'>58</a>\u001b[0m maddison_old_pop \u001b[39m=\u001b[39m pd\u001b[39m.\u001b[39;49mread_excel(pathout \u001b[39m+\u001b[39;49m \u001b[39m'\u001b[39;49m\u001b[39mMaddison_original.xls\u001b[39;49m\u001b[39m'\u001b[39;49m, sheet_name\u001b[39m=\u001b[39;49m\u001b[39m\"\u001b[39;49m\u001b[39mPopulation\u001b[39;49m\u001b[39m\"\u001b[39;49m, skiprows\u001b[39m=\u001b[39;49m\u001b[39m2\u001b[39;49m)\n\u001b[0;32m     <a href='vscode-notebook-cell:/c%3A/Users/Tayyab/OneDrive/Desktop/python%20with%20AAMMAR%20BABA/test_on_vscode.ipynb#ch0000016?line=58'>59</a>\u001b[0m maddison_old_pop\n",
      "File \u001b[1;32m~\\OneDrive\\Desktop\\lib\\site-packages\\pandas\\util\\_decorators.py:311\u001b[0m, in \u001b[0;36mdeprecate_nonkeyword_arguments.<locals>.decorate.<locals>.wrapper\u001b[1;34m(*args, **kwargs)\u001b[0m\n\u001b[0;32m    <a href='file:///c%3A/Users/Tayyab/OneDrive/Desktop/lib/site-packages/pandas/util/_decorators.py?line=304'>305</a>\u001b[0m \u001b[39mif\u001b[39;00m \u001b[39mlen\u001b[39m(args) \u001b[39m>\u001b[39m num_allow_args:\n\u001b[0;32m    <a href='file:///c%3A/Users/Tayyab/OneDrive/Desktop/lib/site-packages/pandas/util/_decorators.py?line=305'>306</a>\u001b[0m     warnings\u001b[39m.\u001b[39mwarn(\n\u001b[0;32m    <a href='file:///c%3A/Users/Tayyab/OneDrive/Desktop/lib/site-packages/pandas/util/_decorators.py?line=306'>307</a>\u001b[0m         msg\u001b[39m.\u001b[39mformat(arguments\u001b[39m=\u001b[39marguments),\n\u001b[0;32m    <a href='file:///c%3A/Users/Tayyab/OneDrive/Desktop/lib/site-packages/pandas/util/_decorators.py?line=307'>308</a>\u001b[0m         \u001b[39mFutureWarning\u001b[39;00m,\n\u001b[0;32m    <a href='file:///c%3A/Users/Tayyab/OneDrive/Desktop/lib/site-packages/pandas/util/_decorators.py?line=308'>309</a>\u001b[0m         stacklevel\u001b[39m=\u001b[39mstacklevel,\n\u001b[0;32m    <a href='file:///c%3A/Users/Tayyab/OneDrive/Desktop/lib/site-packages/pandas/util/_decorators.py?line=309'>310</a>\u001b[0m     )\n\u001b[1;32m--> <a href='file:///c%3A/Users/Tayyab/OneDrive/Desktop/lib/site-packages/pandas/util/_decorators.py?line=310'>311</a>\u001b[0m \u001b[39mreturn\u001b[39;00m func(\u001b[39m*\u001b[39margs, \u001b[39m*\u001b[39m\u001b[39m*\u001b[39mkwargs)\n",
      "File \u001b[1;32m~\\OneDrive\\Desktop\\lib\\site-packages\\pandas\\io\\excel\\_base.py:457\u001b[0m, in \u001b[0;36mread_excel\u001b[1;34m(io, sheet_name, header, names, index_col, usecols, squeeze, dtype, engine, converters, true_values, false_values, skiprows, nrows, na_values, keep_default_na, na_filter, verbose, parse_dates, date_parser, thousands, decimal, comment, skipfooter, convert_float, mangle_dupe_cols, storage_options)\u001b[0m\n\u001b[0;32m    <a href='file:///c%3A/Users/Tayyab/OneDrive/Desktop/lib/site-packages/pandas/io/excel/_base.py?line=454'>455</a>\u001b[0m \u001b[39mif\u001b[39;00m \u001b[39mnot\u001b[39;00m \u001b[39misinstance\u001b[39m(io, ExcelFile):\n\u001b[0;32m    <a href='file:///c%3A/Users/Tayyab/OneDrive/Desktop/lib/site-packages/pandas/io/excel/_base.py?line=455'>456</a>\u001b[0m     should_close \u001b[39m=\u001b[39m \u001b[39mTrue\u001b[39;00m\n\u001b[1;32m--> <a href='file:///c%3A/Users/Tayyab/OneDrive/Desktop/lib/site-packages/pandas/io/excel/_base.py?line=456'>457</a>\u001b[0m     io \u001b[39m=\u001b[39m ExcelFile(io, storage_options\u001b[39m=\u001b[39;49mstorage_options, engine\u001b[39m=\u001b[39;49mengine)\n\u001b[0;32m    <a href='file:///c%3A/Users/Tayyab/OneDrive/Desktop/lib/site-packages/pandas/io/excel/_base.py?line=457'>458</a>\u001b[0m \u001b[39melif\u001b[39;00m engine \u001b[39mand\u001b[39;00m engine \u001b[39m!=\u001b[39m io\u001b[39m.\u001b[39mengine:\n\u001b[0;32m    <a href='file:///c%3A/Users/Tayyab/OneDrive/Desktop/lib/site-packages/pandas/io/excel/_base.py?line=458'>459</a>\u001b[0m     \u001b[39mraise\u001b[39;00m \u001b[39mValueError\u001b[39;00m(\n\u001b[0;32m    <a href='file:///c%3A/Users/Tayyab/OneDrive/Desktop/lib/site-packages/pandas/io/excel/_base.py?line=459'>460</a>\u001b[0m         \u001b[39m\"\u001b[39m\u001b[39mEngine should not be specified when passing \u001b[39m\u001b[39m\"\u001b[39m\n\u001b[0;32m    <a href='file:///c%3A/Users/Tayyab/OneDrive/Desktop/lib/site-packages/pandas/io/excel/_base.py?line=460'>461</a>\u001b[0m         \u001b[39m\"\u001b[39m\u001b[39man ExcelFile - ExcelFile already has the engine set\u001b[39m\u001b[39m\"\u001b[39m\n\u001b[0;32m    <a href='file:///c%3A/Users/Tayyab/OneDrive/Desktop/lib/site-packages/pandas/io/excel/_base.py?line=461'>462</a>\u001b[0m     )\n",
      "File \u001b[1;32m~\\OneDrive\\Desktop\\lib\\site-packages\\pandas\\io\\excel\\_base.py:1419\u001b[0m, in \u001b[0;36mExcelFile.__init__\u001b[1;34m(self, path_or_buffer, engine, storage_options)\u001b[0m\n\u001b[0;32m   <a href='file:///c%3A/Users/Tayyab/OneDrive/Desktop/lib/site-packages/pandas/io/excel/_base.py?line=1415'>1416</a>\u001b[0m \u001b[39mself\u001b[39m\u001b[39m.\u001b[39mengine \u001b[39m=\u001b[39m engine\n\u001b[0;32m   <a href='file:///c%3A/Users/Tayyab/OneDrive/Desktop/lib/site-packages/pandas/io/excel/_base.py?line=1416'>1417</a>\u001b[0m \u001b[39mself\u001b[39m\u001b[39m.\u001b[39mstorage_options \u001b[39m=\u001b[39m storage_options\n\u001b[1;32m-> <a href='file:///c%3A/Users/Tayyab/OneDrive/Desktop/lib/site-packages/pandas/io/excel/_base.py?line=1418'>1419</a>\u001b[0m \u001b[39mself\u001b[39m\u001b[39m.\u001b[39m_reader \u001b[39m=\u001b[39m \u001b[39mself\u001b[39;49m\u001b[39m.\u001b[39;49m_engines[engine](\u001b[39mself\u001b[39;49m\u001b[39m.\u001b[39;49m_io, storage_options\u001b[39m=\u001b[39;49mstorage_options)\n",
      "File \u001b[1;32m~\\OneDrive\\Desktop\\lib\\site-packages\\pandas\\io\\excel\\_xlrd.py:24\u001b[0m, in \u001b[0;36mXlrdReader.__init__\u001b[1;34m(self, filepath_or_buffer, storage_options)\u001b[0m\n\u001b[0;32m     <a href='file:///c%3A/Users/Tayyab/OneDrive/Desktop/lib/site-packages/pandas/io/excel/_xlrd.py?line=12'>13</a>\u001b[0m \u001b[39m\"\"\"\u001b[39;00m\n\u001b[0;32m     <a href='file:///c%3A/Users/Tayyab/OneDrive/Desktop/lib/site-packages/pandas/io/excel/_xlrd.py?line=13'>14</a>\u001b[0m \u001b[39mReader using xlrd engine.\u001b[39;00m\n\u001b[0;32m     <a href='file:///c%3A/Users/Tayyab/OneDrive/Desktop/lib/site-packages/pandas/io/excel/_xlrd.py?line=14'>15</a>\u001b[0m \n\u001b[1;32m   (...)\u001b[0m\n\u001b[0;32m     <a href='file:///c%3A/Users/Tayyab/OneDrive/Desktop/lib/site-packages/pandas/io/excel/_xlrd.py?line=20'>21</a>\u001b[0m \u001b[39m    passed to fsspec for appropriate URLs (see ``_get_filepath_or_buffer``)\u001b[39;00m\n\u001b[0;32m     <a href='file:///c%3A/Users/Tayyab/OneDrive/Desktop/lib/site-packages/pandas/io/excel/_xlrd.py?line=21'>22</a>\u001b[0m \u001b[39m\"\"\"\u001b[39;00m\n\u001b[0;32m     <a href='file:///c%3A/Users/Tayyab/OneDrive/Desktop/lib/site-packages/pandas/io/excel/_xlrd.py?line=22'>23</a>\u001b[0m err_msg \u001b[39m=\u001b[39m \u001b[39m\"\u001b[39m\u001b[39mInstall xlrd >= 1.0.0 for Excel support\u001b[39m\u001b[39m\"\u001b[39m\n\u001b[1;32m---> <a href='file:///c%3A/Users/Tayyab/OneDrive/Desktop/lib/site-packages/pandas/io/excel/_xlrd.py?line=23'>24</a>\u001b[0m import_optional_dependency(\u001b[39m\"\u001b[39;49m\u001b[39mxlrd\u001b[39;49m\u001b[39m\"\u001b[39;49m, extra\u001b[39m=\u001b[39;49merr_msg)\n\u001b[0;32m     <a href='file:///c%3A/Users/Tayyab/OneDrive/Desktop/lib/site-packages/pandas/io/excel/_xlrd.py?line=24'>25</a>\u001b[0m \u001b[39msuper\u001b[39m()\u001b[39m.\u001b[39m\u001b[39m__init__\u001b[39m(filepath_or_buffer, storage_options\u001b[39m=\u001b[39mstorage_options)\n",
      "File \u001b[1;32m~\\OneDrive\\Desktop\\lib\\site-packages\\pandas\\compat\\_optional.py:129\u001b[0m, in \u001b[0;36mimport_optional_dependency\u001b[1;34m(name, extra, errors, min_version)\u001b[0m\n\u001b[0;32m    <a href='file:///c%3A/Users/Tayyab/OneDrive/Desktop/lib/site-packages/pandas/compat/_optional.py?line=126'>127</a>\u001b[0m \u001b[39mexcept\u001b[39;00m \u001b[39mImportError\u001b[39;00m:\n\u001b[0;32m    <a href='file:///c%3A/Users/Tayyab/OneDrive/Desktop/lib/site-packages/pandas/compat/_optional.py?line=127'>128</a>\u001b[0m     \u001b[39mif\u001b[39;00m errors \u001b[39m==\u001b[39m \u001b[39m\"\u001b[39m\u001b[39mraise\u001b[39m\u001b[39m\"\u001b[39m:\n\u001b[1;32m--> <a href='file:///c%3A/Users/Tayyab/OneDrive/Desktop/lib/site-packages/pandas/compat/_optional.py?line=128'>129</a>\u001b[0m         \u001b[39mraise\u001b[39;00m \u001b[39mImportError\u001b[39;00m(msg)\n\u001b[0;32m    <a href='file:///c%3A/Users/Tayyab/OneDrive/Desktop/lib/site-packages/pandas/compat/_optional.py?line=129'>130</a>\u001b[0m     \u001b[39melse\u001b[39;00m:\n\u001b[0;32m    <a href='file:///c%3A/Users/Tayyab/OneDrive/Desktop/lib/site-packages/pandas/compat/_optional.py?line=130'>131</a>\u001b[0m         \u001b[39mreturn\u001b[39;00m \u001b[39mNone\u001b[39;00m\n",
      "\u001b[1;31mImportError\u001b[0m: Missing optional dependency 'xlrd'. Install xlrd >= 1.0.0 for Excel support Use pip or conda to install xlrd."
     ]
    },
    {
     "data": {
      "image/png": "[encoded data removed]",
      "text/plain": [
       "<Figure size 432x288 with 1 Axes>"
      ]
     },
     "metadata": {
      "needs_background": "light"
     },
     "output_type": "display_data"
    },
    {
     "data": {
      "image/png": "[encoded data removed]",
      "text/plain": [
       "<Figure size 432x288 with 1 Axes>"
      ]
     },
     "metadata": {
      "needs_background": "light"
     },
     "output_type": "display_data"
    }
   ],
   "source": [
    "from __future__ import division\n",
    "%pylab --no-import-all\n",
    "%matplotlib inline\n",
    "import pandas as pd\n",
    "import numpy as np\n",
    "countries = pd.Series(['Colombia', 'Turkey', 'USA', 'Germany', 'Chile'], name='country')\n",
    "print(countries)\n",
    "print('\\n', 'There are ', countries.shape[0], 'countries in this series.')\n",
    "np.random.seed(123456)\n",
    "data = pd.Series(np.random.normal(size=(countries.shape)), name='noise')\n",
    "print(data)\n",
    "print('\\n', 'The average in this sample is ', data.mean())\n",
    "df = pd.DataFrame([countries, data])\n",
    "df\n",
    "df = df.T\n",
    "df\n",
    "df['noise_sq'] = df.noise**2\n",
    "df['noise and its square'] = df.noise + df.noise_sq\n",
    "df['name length'] = df.country.apply(len)\n",
    "df\n",
    "south_america = ['Colombia', 'Chile']\n",
    "df.loc[df.country.apply(lambda x: x in south_america)]\n",
    "df.country.apply(lambda x: x in south_america)\n",
    "df['South America'] = df.country.apply(lambda x: x in south_america).astype(int)\n",
    "df.plot()\n",
    "df = df.set_index('country')\n",
    "print(df)\n",
    "df.plot()\n",
    "df.loc['Colombia']\n",
    "import os\n",
    "\n",
    "pathout = './data/'\n",
    "\n",
    "if not os.path.exists(pathout):\n",
    "    os.mkdir(pathout)\n",
    "    \n",
    "pathgraphs = './graphs/'\n",
    "if not os.path.exists(pathgraphs):\n",
    "    os.mkdir(pathgraphs)\n",
    "try:\n",
    "    maddison_new = pd.read_stata(pathout + 'Maddison2018.dta')\n",
    "    maddison_new_region = pd.read_stata(pathout + 'Maddison2018_region.dta')\n",
    "    maddison_new_1990 = pd.read_stata(pathout + 'Maddison2018_1990.dta')\n",
    "except:\n",
    "    maddison_new = pd.read_stata('https://www.rug.nl/ggdc/historicaldevelopment/maddison/data/mpd2018.dta')\n",
    "    maddison_new.to_stata(pathout + 'Maddison2018.dta', write_index=False, version=117)\n",
    "    maddison_new_region = pd.read_stata('https://www.rug.nl/ggdc/historicaldevelopment/maddison/data/mpd2018_region_data.dta')\n",
    "    maddison_new_region.to_stata(pathout + 'Maddison2018_region.dta', write_index=False, version=117)\n",
    "    maddison_new_1990 = pd.read_stata('https://www.rug.nl/ggdc/historicaldevelopment/maddison/data/mpd2018_1990bm.dta')\n",
    "    maddison_new_1990.to_stata(pathout + 'Maddison2018_1990.dta', write_index=False, version=117)\n",
    "maddison_new\n",
    "maddison_new['year'] = maddison_new.year.astype(int)\n",
    "maddison_new\n",
    "if not os.path.exists(pathout + 'Maddison_original.xls'):\n",
    "    import urllib\n",
    "    dataurl = \"http://www.ggdc.net/maddison/Historical_Statistics/horizontal-file_02-2010.xls\"\n",
    "    urllib.request.urlretrieve(dataurl, pathout + 'Maddison_original.xls')\n",
    "maddison_old_pop = pd.read_excel(pathout + 'Maddison_original.xls', sheet_name=\"Population\", skiprows=2)\n",
    "maddison_old_pop"
   ]
  },
  {
   "cell_type": "code",
   "execution_count": 16,
   "metadata": {},
   "outputs": [
    {
     "data": {
      "text/html": [
       "<div>\n",
       "<style scoped>\n",
       "    .dataframe tbody tr th:only-of-type {\n",
       "        vertical-align: middle;\n",
       "    }\n",
       "\n",
       "    .dataframe tbody tr th {\n",
       "        vertical-align: top;\n",
       "    }\n",
       "\n",
       "    .dataframe thead th {\n",
       "        text-align: right;\n",
       "    }\n",
       "</style>\n",
       "<table border=\"1\" class=\"dataframe\">\n",
       "  <thead>\n",
       "    <tr style=\"text-align: right;\">\n",
       "      <th></th>\n",
       "      <th>quadkey</th>\n",
       "      <th>tile</th>\n",
       "      <th>avg_d_kbps</th>\n",
       "      <th>avg_u_kbps</th>\n",
       "      <th>avg_lat_ms</th>\n",
       "      <th>tests</th>\n",
       "      <th>devices</th>\n",
       "      <th>year</th>\n",
       "      <th>quarter</th>\n",
       "    </tr>\n",
       "  </thead>\n",
       "  <tbody>\n",
       "    <tr>\n",
       "      <th>0</th>\n",
       "      <td>1202021311122123</td>\n",
       "      <td>POLYGON((5.4766845703125 51.5258338471226, 5.4...</td>\n",
       "      <td>25488</td>\n",
       "      <td>1778</td>\n",
       "      <td>58</td>\n",
       "      <td>6</td>\n",
       "      <td>3</td>\n",
       "      <td>2020</td>\n",
       "      <td>2</td>\n",
       "    </tr>\n",
       "    <tr>\n",
       "      <th>1</th>\n",
       "      <td>323002123001001</td>\n",
       "      <td>POLYGON((-65.6927490234375 18.3128108464254, -...</td>\n",
       "      <td>28948</td>\n",
       "      <td>3614</td>\n",
       "      <td>64</td>\n",
       "      <td>2</td>\n",
       "      <td>2</td>\n",
       "      <td>2020</td>\n",
       "      <td>4</td>\n",
       "    </tr>\n",
       "    <tr>\n",
       "      <th>2</th>\n",
       "      <td>3100131230110332</td>\n",
       "      <td>POLYGON((110.687255859375 -7.74909438108266, 1...</td>\n",
       "      <td>9007</td>\n",
       "      <td>13270</td>\n",
       "      <td>42</td>\n",
       "      <td>4</td>\n",
       "      <td>3</td>\n",
       "      <td>2020</td>\n",
       "      <td>3</td>\n",
       "    </tr>\n",
       "    <tr>\n",
       "      <th>3</th>\n",
       "      <td>1201020220311022</td>\n",
       "      <td>POLYGON((22.8076171875 63.1469122928484, 22.81...</td>\n",
       "      <td>32513</td>\n",
       "      <td>17032</td>\n",
       "      <td>28</td>\n",
       "      <td>1</td>\n",
       "      <td>1</td>\n",
       "      <td>2020</td>\n",
       "      <td>2</td>\n",
       "    </tr>\n",
       "    <tr>\n",
       "      <th>4</th>\n",
       "      <td>1210220312002102</td>\n",
       "      <td>POLYGON((47.13134765625 57.8652099973606, 47.1...</td>\n",
       "      <td>5852</td>\n",
       "      <td>2330</td>\n",
       "      <td>35</td>\n",
       "      <td>2</td>\n",
       "      <td>1</td>\n",
       "      <td>2020</td>\n",
       "      <td>2</td>\n",
       "    </tr>\n",
       "    <tr>\n",
       "      <th>...</th>\n",
       "      <td>...</td>\n",
       "      <td>...</td>\n",
       "      <td>...</td>\n",
       "      <td>...</td>\n",
       "      <td>...</td>\n",
       "      <td>...</td>\n",
       "      <td>...</td>\n",
       "      <td>...</td>\n",
       "      <td>...</td>\n",
       "    </tr>\n",
       "    <tr>\n",
       "      <th>95</th>\n",
       "      <td>1322123220201102</td>\n",
       "      <td>POLYGON((104.12841796875 11.6898935573257, 104...</td>\n",
       "      <td>2710</td>\n",
       "      <td>8506</td>\n",
       "      <td>30</td>\n",
       "      <td>5</td>\n",
       "      <td>3</td>\n",
       "      <td>2020</td>\n",
       "      <td>1</td>\n",
       "    </tr>\n",
       "    <tr>\n",
       "      <th>96</th>\n",
       "      <td>212320223200111</td>\n",
       "      <td>POLYGON((-123.359985351562 43.1971672825013, -...</td>\n",
       "      <td>2815</td>\n",
       "      <td>136</td>\n",
       "      <td>32</td>\n",
       "      <td>1</td>\n",
       "      <td>1</td>\n",
       "      <td>2020</td>\n",
       "      <td>1</td>\n",
       "    </tr>\n",
       "    <tr>\n",
       "      <th>97</th>\n",
       "      <td>1202021120303230</td>\n",
       "      <td>POLYGON((4.449462890625 51.8968338830125, 4.45...</td>\n",
       "      <td>30214</td>\n",
       "      <td>4713</td>\n",
       "      <td>22</td>\n",
       "      <td>1</td>\n",
       "      <td>1</td>\n",
       "      <td>2020</td>\n",
       "      <td>4</td>\n",
       "    </tr>\n",
       "    <tr>\n",
       "      <th>98</th>\n",
       "      <td>313311312302332</td>\n",
       "      <td>POLYGON((-0.494384765625 47.5802312978927, -0....</td>\n",
       "      <td>18326</td>\n",
       "      <td>4469</td>\n",
       "      <td>40</td>\n",
       "      <td>1</td>\n",
       "      <td>1</td>\n",
       "      <td>2020</td>\n",
       "      <td>2</td>\n",
       "    </tr>\n",
       "    <tr>\n",
       "      <th>99</th>\n",
       "      <td>1321203030221311</td>\n",
       "      <td>POLYGON((116.098022460938 28.6713109158808, 11...</td>\n",
       "      <td>40140</td>\n",
       "      <td>18368</td>\n",
       "      <td>32</td>\n",
       "      <td>9</td>\n",
       "      <td>2</td>\n",
       "      <td>2020</td>\n",
       "      <td>3</td>\n",
       "    </tr>\n",
       "  </tbody>\n",
       "</table>\n",
       "<p>100 rows × 9 columns</p>\n",
       "</div>"
      ],
      "text/plain": [
       "             quadkey                                               tile  \\\n",
       "0   1202021311122123  POLYGON((5.4766845703125 51.5258338471226, 5.4...   \n",
       "1    323002123001001  POLYGON((-65.6927490234375 18.3128108464254, -...   \n",
       "2   3100131230110332  POLYGON((110.687255859375 -7.74909438108266, 1...   \n",
       "3   1201020220311022  POLYGON((22.8076171875 63.1469122928484, 22.81...   \n",
       "4   1210220312002102  POLYGON((47.13134765625 57.8652099973606, 47.1...   \n",
       "..               ...                                                ...   \n",
       "95  1322123220201102  POLYGON((104.12841796875 11.6898935573257, 104...   \n",
       "96   212320223200111  POLYGON((-123.359985351562 43.1971672825013, -...   \n",
       "97  1202021120303230  POLYGON((4.449462890625 51.8968338830125, 4.45...   \n",
       "98   313311312302332  POLYGON((-0.494384765625 47.5802312978927, -0....   \n",
       "99  1321203030221311  POLYGON((116.098022460938 28.6713109158808, 11...   \n",
       "\n",
       "    avg_d_kbps  avg_u_kbps  avg_lat_ms  tests  devices  year  quarter  \n",
       "0        25488        1778          58      6        3  2020        2  \n",
       "1        28948        3614          64      2        2  2020        4  \n",
       "2         9007       13270          42      4        3  2020        3  \n",
       "3        32513       17032          28      1        1  2020        2  \n",
       "4         5852        2330          35      2        1  2020        2  \n",
       "..         ...         ...         ...    ...      ...   ...      ...  \n",
       "95        2710        8506          30      5        3  2020        1  \n",
       "96        2815         136          32      1        1  2020        1  \n",
       "97       30214        4713          22      1        1  2020        4  \n",
       "98       18326        4469          40      1        1  2020        2  \n",
       "99       40140       18368          32      9        2  2020        3  \n",
       "\n",
       "[100 rows x 9 columns]"
      ]
     },
     "execution_count": 16,
     "metadata": {},
     "output_type": "execute_result"
    }
   ],
   "source": [
    "import numpy as np\n",
    "import pandas as pd\n",
    "import matplotlib.pyplot as plt\n",
    "tayyab = pd.read_csv(\"sample.csv\")\n",
    "tayyab"
   ]
  },
  {
   "cell_type": "code",
   "execution_count": 24,
   "metadata": {},
   "outputs": [
    {
     "data": {
      "text/plain": [
       "<function matplotlib.pyplot.show(close=None, block=None)>"
      ]
     },
     "execution_count": 24,
     "metadata": {},
     "output_type": "execute_result"
    },
    {
     "data": {
      "image/png": "[encoded data removed]",
      "text/plain": [
       "<Figure size 432x288 with 1 Axes>"
      ]
     },
     "metadata": {
      "needs_background": "light"
     },
     "output_type": "display_data"
    }
   ],
   "source": [
    "import numpy as np\n",
    "import pandas as pd\n",
    "import matplotlib.pyplot as plt\n",
    "sample = pd.read_csv(\"sample.csv\")\n",
    "plt.plot(sample.year, sample[\"avg_lat_ms\"], \"r--\")\n",
    "plt.show"
   ]
  },
  {
   "cell_type": "code",
   "execution_count": null,
   "metadata": {},
   "outputs": [],
   "source": []
  }
 ],
 "metadata": {
  "interpreter": {
   "hash": "93e892681a5b23fbe3f01ed436c9df9f8a3ae8064afe3e4df7a9eabe7e099788"
  },
  "kernelspec": {
   "display_name": "Python 3.10.4 64-bit",
   "language": "python",
   "name": "python3"
  },
  "language_info": {
   "codemirror_mode": {
    "name": "ipython",
    "version": 3
   },
   "file_extension": ".py",
   "mimetype": "text/x-python",
   "name": "python",
   "nbconvert_exporter": "python",
   "pygments_lexer": "ipython3",
   "version": "3.10.4"
  },
  "orig_nbformat": 4
 },
 "nbformat": 4,
 "nbformat_minor": 2
}
